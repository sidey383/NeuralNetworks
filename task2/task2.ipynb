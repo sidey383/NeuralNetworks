{
 "cells": [
  {
   "cell_type": "markdown",
   "source": [
    "# Mushrooms"
   ],
   "metadata": {
    "collapsed": false
   },
   "id": "d62a640d7320c0ee"
  },
  {
   "cell_type": "code",
   "source": [
    "import pandas as pd\n",
    "import numpy as np\n",
    "import random\n",
    "from tensorflow import keras\n",
    "from sklearn.model_selection import train_test_split\n",
    "import matplotlib.pyplot as plt\n",
    "\n",
    "mushrooms = pd.read_csv(\"agaricus-lepiota_h.data\")\n",
    "for v in mushrooms.columns:\n",
    "    mushrooms[v] = mushrooms[v].fillna('z')\n",
    "mushrooms.head()"
   ],
   "metadata": {
    "collapsed": false,
    "ExecuteTime": {
     "end_time": "2024-05-28T12:52:01.829093Z",
     "start_time": "2024-05-28T12:51:59.131769Z"
    }
   },
   "id": "initial_id",
   "execution_count": 25,
   "outputs": []
  },
  {
   "cell_type": "code",
   "source": [
    "mushroomsTarget = mushrooms[\"poisonous\"]\n",
    "mushroomsTarget.describe()"
   ],
   "metadata": {
    "collapsed": false,
    "ExecuteTime": {
     "end_time": "2024-05-28T12:52:01.845096Z",
     "start_time": "2024-05-28T12:52:01.830098Z"
    }
   },
   "id": "ac3840d98baf2d85",
   "execution_count": 26,
   "outputs": []
  },
  {
   "cell_type": "code",
   "source": [
    "mushroomsFeatures = mushrooms.drop(columns = \"poisonous\")\n",
    "mushroomsFeatures.describe()"
   ],
   "metadata": {
    "collapsed": false,
    "ExecuteTime": {
     "end_time": "2024-05-28T12:52:01.892100Z",
     "start_time": "2024-05-28T12:52:01.846098Z"
    }
   },
   "id": "bc5b5a16b61e25d9",
   "execution_count": 27,
   "outputs": []
  },
  {
   "cell_type": "code",
   "source": [
    "binary_columns = [col for col in mushroomsFeatures.columns if mushroomsFeatures[col].nunique() == 2]\n",
    "mushroomsFeatures = pd.get_dummies(mushroomsFeatures, columns=[col for col in mushroomsFeatures.columns if col not in binary_columns], drop_first=False)\n",
    "mushroomsFeatures = pd.get_dummies(mushroomsFeatures, columns=binary_columns, drop_first=True)\n",
    "mushroomsTarget = pd.get_dummies(mushroomsTarget, columns=['poisonous'], drop_first=True)"
   ],
   "metadata": {
    "collapsed": false,
    "ExecuteTime": {
     "end_time": "2024-05-28T12:52:01.940097Z",
     "start_time": "2024-05-28T12:52:01.894100Z"
    }
   },
   "id": "136de40ab2c8208e",
   "execution_count": 28,
   "outputs": []
  },
  {
   "cell_type": "code",
   "source": [
    "mushroomsTarget.describe()"
   ],
   "metadata": {
    "collapsed": false,
    "ExecuteTime": {
     "end_time": "2024-05-28T12:52:01.956098Z",
     "start_time": "2024-05-28T12:52:01.941097Z"
    }
   },
   "id": "3a10071ac8fb29fa",
   "execution_count": 29,
   "outputs": []
  },
  {
   "cell_type": "code",
   "source": [
    "mushroomsFeatures.describe()"
   ],
   "metadata": {
    "collapsed": false,
    "ExecuteTime": {
     "end_time": "2024-05-28T12:52:02.035099Z",
     "start_time": "2024-05-28T12:52:01.957095Z"
    }
   },
   "id": "b6cbd79c4ee028f9",
   "execution_count": 30,
   "outputs": []
  },
  {
   "cell_type": "code",
   "source": [
    "\n",
    "X_train, X_test, y_train, y_test = train_test_split(mushroomsFeatures, mushroomsTarget, test_size=0.2, random_state=0)"
   ],
   "metadata": {
    "collapsed": false,
    "ExecuteTime": {
     "end_time": "2024-05-28T12:52:02.051093Z",
     "start_time": "2024-05-28T12:52:02.037099Z"
    }
   },
   "id": "d4e48c5e0fa95622",
   "execution_count": 31,
   "outputs": []
  },
  {
   "cell_type": "code",
   "source": [
    "\n",
    "classifier_input = keras.Input(shape=(X_train.shape[1],))\n",
    "x = keras.layers.Dense(\n",
    "    units=16,\n",
    "    activation='relu',\n",
    "    use_bias=True,\n",
    "    bias_initializer=\"zeros\",\n",
    ")(classifier_input)\n",
    "x = keras.layers.Dense(\n",
    "    units=8,\n",
    "    activation='relu',\n",
    "    use_bias=True,\n",
    "    bias_initializer=\"zeros\",\n",
    ")(x)\n",
    "classifier_output = keras.layers.Dense(\n",
    "    units=1,\n",
    "    activation='relu',\n",
    "    use_bias=True,\n",
    "    bias_initializer=\"zeros\",\n",
    ")(x)\n",
    "classifier = keras.Model(inputs=classifier_input, outputs=classifier_output)\n"
   ],
   "metadata": {
    "collapsed": false,
    "ExecuteTime": {
     "end_time": "2024-05-28T12:52:02.223721Z",
     "start_time": "2024-05-28T12:52:02.052095Z"
    }
   },
   "id": "9b5bed580b2f9e88",
   "execution_count": 32,
   "outputs": []
  },
  {
   "cell_type": "code",
   "source": [
    "classifier.summary()"
   ],
   "metadata": {
    "collapsed": false,
    "ExecuteTime": {
     "end_time": "2024-05-28T12:52:02.286338Z",
     "start_time": "2024-05-28T12:52:02.224718Z"
    }
   },
   "id": "9f8b7fac831693b1",
   "execution_count": 33,
   "outputs": []
  },
  {
   "cell_type": "code",
   "source": [
    "classifier.compile(\n",
    "    optimizer=keras.optimizers.Adam(learning_rate=0.001),\n",
    "    # loss=keras.losses.BinaryCrossentropy(),\n",
    "    loss=keras.losses.MSE,\n",
    "    metrics=[\n",
    "        keras.metrics.BinaryAccuracy(),\n",
    "        keras.metrics.Recall(),\n",
    "        keras.metrics.Precision(),\n",
    "        keras.metrics.AUC()\n",
    "    ],\n",
    ")"
   ],
   "metadata": {
    "collapsed": false,
    "ExecuteTime": {
     "end_time": "2024-05-28T12:52:02.318335Z",
     "start_time": "2024-05-28T12:52:02.290335Z"
    }
   },
   "id": "c1f6c020ae3e0f97",
   "execution_count": 34,
   "outputs": []
  },
  {
   "cell_type": "code",
   "source": [
    "classifier.evaluate(\n",
    "    x=X_test.astype('int').values,\n",
    "    y=y_test.astype('int').values,\n",
    "    batch_size=None,\n",
    "    verbose=1,\n",
    ")"
   ],
   "metadata": {
    "collapsed": false,
    "ExecuteTime": {
     "end_time": "2024-05-28T12:52:02.846338Z",
     "start_time": "2024-05-28T12:52:02.319337Z"
    }
   },
   "id": "4e137b4bab429326",
   "execution_count": 35,
   "outputs": []
  },
  {
   "cell_type": "code",
   "source": [
    "history = classifier.fit(\n",
    "    x=X_train.astype('int').values,\n",
    "    y=y_train.astype('int').values,\n",
    "    batch_size=None,\n",
    "    epochs=10,\n",
    "    shuffle=True,\n",
    "    steps_per_epoch=None,\n",
    ")"
   ],
   "metadata": {
    "collapsed": false,
    "ExecuteTime": {
     "end_time": "2024-05-28T12:52:06.138912Z",
     "start_time": "2024-05-28T12:52:02.847340Z"
    }
   },
   "id": "9e6f761892ea07d1",
   "execution_count": 36,
   "outputs": []
  },
  {
   "cell_type": "code",
   "source": [
    "for k in history.history.keys():\n",
    "  plt.plot(history.history[k])\n",
    "plt.legend(history.history.keys(), loc='upper left')"
   ],
   "metadata": {
    "collapsed": false,
    "ExecuteTime": {
     "end_time": "2024-05-28T12:52:06.282121Z",
     "start_time": "2024-05-28T12:52:06.139912Z"
    }
   },
   "id": "d53a1aca64eda17",
   "execution_count": 37,
   "outputs": []
  },
  {
   "cell_type": "markdown",
   "source": [],
   "metadata": {
    "collapsed": false
   },
   "id": "5bbd55c8d241827d"
  },
  {
   "cell_type": "markdown",
   "source": [
    "# Laptop"
   ],
   "metadata": {
    "collapsed": false
   },
   "id": "a4db011ceeca7ec6"
  },
  {
   "cell_type": "code",
   "source": [
    "laptop = pd.read_csv(\"Laptop_price.csv\")\n",
    "laptop.describe()"
   ],
   "metadata": {
    "collapsed": false,
    "ExecuteTime": {
     "end_time": "2024-05-28T12:52:06.314121Z",
     "start_time": "2024-05-28T12:52:06.283122Z"
    }
   },
   "id": "acd3973c3ba258e3",
   "execution_count": 38,
   "outputs": []
  },
  {
   "cell_type": "code",
   "source": [
    "priceMin = laptop[\"Price\"].min()\n",
    "priceMax = laptop[\"Price\"].max()\n",
    "def unnorm_price(price):\n",
    "  return price * (priceMax - priceMin) + priceMin\n",
    "fractional = ['Processor_Speed', 'Screen_Size', 'Weight', 'Price']\n",
    "for col in [c for c in laptop.columns if c not in [\"Brand\"]]:\n",
    "    laptop[col] = ((laptop[col] - laptop[col].min()) / (laptop[col].max() - laptop[col].min()))\n",
    "laptop = pd.get_dummies(laptop, columns=[\"Brand\"], drop_first=False)\n",
    "laptop.head()"
   ],
   "metadata": {
    "collapsed": false,
    "ExecuteTime": {
     "end_time": "2024-05-28T12:52:06.345123Z",
     "start_time": "2024-05-28T12:52:06.315122Z"
    }
   },
   "id": "b5190568a002b34c",
   "execution_count": 39,
   "outputs": []
  },
  {
   "cell_type": "code",
   "source": [
    "\n",
    "laptopFeatures = laptop.drop(\"Price\", axis=1)\n",
    "laptopTarget = laptop[\"Price\"]\n",
    "\n",
    "\n",
    "X_train, X_test, y_train, y_test = train_test_split(laptopFeatures, laptopTarget, test_size=0.2, random_state=0)"
   ],
   "metadata": {
    "collapsed": false,
    "ExecuteTime": {
     "end_time": "2024-05-28T12:52:06.361122Z",
     "start_time": "2024-05-28T12:52:06.346122Z"
    }
   },
   "id": "7e8bd082ae7b6505",
   "execution_count": 40,
   "outputs": []
  },
  {
   "cell_type": "code",
   "source": [
    "\n",
    "regressor_input = keras.Input(shape=(X_train.shape[1],))\n",
    "x = keras.layers.Dense(\n",
    "    units=10,\n",
    "    activation='relu',\n",
    "    use_bias=True,\n",
    "    bias_initializer=\"zeros\",\n",
    ")(regressor_input)\n",
    "regressor_output = keras.layers.Dense(\n",
    "    units=1,\n",
    "    activation='relu',\n",
    "    use_bias=True,\n",
    "    bias_initializer=\"zeros\",\n",
    ")(x)\n",
    "regressor = keras.Model(inputs=regressor_input, outputs=regressor_output)"
   ],
   "metadata": {
    "collapsed": false,
    "ExecuteTime": {
     "end_time": "2024-05-28T12:52:06.393122Z",
     "start_time": "2024-05-28T12:52:06.362122Z"
    }
   },
   "id": "69a87b8e8fd0e3e8",
   "execution_count": 41,
   "outputs": []
  },
  {
   "cell_type": "code",
   "source": [
    "regressor.summary()\n",
    "    "
   ],
   "metadata": {
    "collapsed": false,
    "ExecuteTime": {
     "end_time": "2024-05-28T12:52:06.409124Z",
     "start_time": "2024-05-28T12:52:06.394123Z"
    }
   },
   "id": "545a1b08e3976a49",
   "execution_count": 42,
   "outputs": []
  },
  {
   "cell_type": "code",
   "source": [
    "regressor.compile(\n",
    "    optimizer=keras.optimizers.Adam(learning_rate=0.01),\n",
    "    loss=keras.metrics.MSE,\n",
    "    metrics=[\n",
    "        keras.metrics.MAE,\n",
    "        keras.metrics.MSE,\n",
    "    ],\n",
    ")"
   ],
   "metadata": {
    "collapsed": false,
    "ExecuteTime": {
     "end_time": "2024-05-28T12:52:06.425124Z",
     "start_time": "2024-05-28T12:52:06.410122Z"
    }
   },
   "id": "bf2a19404a636303",
   "execution_count": 43,
   "outputs": []
  },
  {
   "cell_type": "code",
   "source": [
    "regressor.evaluate(\n",
    "    x=X_test.astype('float32').values,\n",
    "    y=y_test.astype('float32').values,\n",
    "    batch_size=None,\n",
    "    verbose=1,\n",
    ")"
   ],
   "metadata": {
    "collapsed": false,
    "ExecuteTime": {
     "end_time": "2024-05-28T12:52:06.694123Z",
     "start_time": "2024-05-28T12:52:06.426122Z"
    }
   },
   "id": "c50f5cc1a0947237",
   "execution_count": 44,
   "outputs": []
  },
  {
   "cell_type": "code",
   "source": [
    "history = regressor.fit(\n",
    "    x=X_train.astype('float32').values,\n",
    "    y=y_train.astype('float32').values,\n",
    "    batch_size=None,\n",
    "    epochs=20,\n",
    "    shuffle=True,\n",
    "    steps_per_epoch=None,\n",
    ")"
   ],
   "metadata": {
    "collapsed": false,
    "ExecuteTime": {
     "end_time": "2024-05-28T12:52:08.184927Z",
     "start_time": "2024-05-28T12:52:06.695123Z"
    }
   },
   "id": "d26c8d03d02301b4",
   "execution_count": 45,
   "outputs": []
  },
  {
   "cell_type": "code",
   "source": [
    "\n",
    "\n",
    "plt.plot(history.history['loss'])\n",
    "plt.plot(history.history['mean_absolute_error'])"
   ],
   "metadata": {
    "collapsed": false,
    "ExecuteTime": {
     "end_time": "2024-05-28T12:52:08.296523Z",
     "start_time": "2024-05-28T12:52:08.185929Z"
    }
   },
   "id": "8a8af08a5ee487e",
   "execution_count": 46,
   "outputs": []
  }
 ],
 "metadata": {
  "kernelspec": {
   "display_name": "Python 3",
   "language": "python",
   "name": "python3"
  },
  "language_info": {
   "codemirror_mode": {
    "name": "ipython",
    "version": 2
   },
   "file_extension": ".py",
   "mimetype": "text/x-python",
   "name": "python",
   "nbconvert_exporter": "python",
   "pygments_lexer": "ipython2",
   "version": "2.7.6"
  }
 },
 "nbformat": 4,
 "nbformat_minor": 5
}
