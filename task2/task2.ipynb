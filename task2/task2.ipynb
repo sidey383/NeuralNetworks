{
 "cells": [
  {
   "cell_type": "markdown",
   "source": [
    "# Mushrooms"
   ],
   "metadata": {
    "collapsed": false
   },
   "id": "d62a640d7320c0ee"
  },
  {
   "cell_type": "code",
   "outputs": [
    {
     "data": {
      "text/plain": "  poisonous cap-shape cap-surface cap-color bruises odor gill-attachment  \\\n0         p         x           s         n       t    p               f   \n1         e         x           s         y       t    a               f   \n2         e         b           s         w       t    l               f   \n3         p         x           y         w       t    p               f   \n4         e         x           s         g       f    n               f   \n\n  gill-spacing gill-size gill-color  ... stalk-surface-below-ring  \\\n0            c         n          k  ...                        s   \n1            c         b          k  ...                        s   \n2            c         b          n  ...                        s   \n3            c         n          n  ...                        s   \n4            w         b          k  ...                        s   \n\n  stalk-color-above-ring stalk-color-below-ring veil-type veil-color  \\\n0                      w                      w         p          w   \n1                      w                      w         p          w   \n2                      w                      w         p          w   \n3                      w                      w         p          w   \n4                      w                      w         p          w   \n\n  ring-number ring-type spore-print-color population habitat  \n0           o         p                 k          s       u  \n1           o         p                 n          n       g  \n2           o         p                 n          n       m  \n3           o         p                 k          s       u  \n4           o         e                 n          a       g  \n\n[5 rows x 23 columns]",
      "text/html": "<div>\n<style scoped>\n    .dataframe tbody tr th:only-of-type {\n        vertical-align: middle;\n    }\n\n    .dataframe tbody tr th {\n        vertical-align: top;\n    }\n\n    .dataframe thead th {\n        text-align: right;\n    }\n</style>\n<table border=\"1\" class=\"dataframe\">\n  <thead>\n    <tr style=\"text-align: right;\">\n      <th></th>\n      <th>poisonous</th>\n      <th>cap-shape</th>\n      <th>cap-surface</th>\n      <th>cap-color</th>\n      <th>bruises</th>\n      <th>odor</th>\n      <th>gill-attachment</th>\n      <th>gill-spacing</th>\n      <th>gill-size</th>\n      <th>gill-color</th>\n      <th>...</th>\n      <th>stalk-surface-below-ring</th>\n      <th>stalk-color-above-ring</th>\n      <th>stalk-color-below-ring</th>\n      <th>veil-type</th>\n      <th>veil-color</th>\n      <th>ring-number</th>\n      <th>ring-type</th>\n      <th>spore-print-color</th>\n      <th>population</th>\n      <th>habitat</th>\n    </tr>\n  </thead>\n  <tbody>\n    <tr>\n      <th>0</th>\n      <td>p</td>\n      <td>x</td>\n      <td>s</td>\n      <td>n</td>\n      <td>t</td>\n      <td>p</td>\n      <td>f</td>\n      <td>c</td>\n      <td>n</td>\n      <td>k</td>\n      <td>...</td>\n      <td>s</td>\n      <td>w</td>\n      <td>w</td>\n      <td>p</td>\n      <td>w</td>\n      <td>o</td>\n      <td>p</td>\n      <td>k</td>\n      <td>s</td>\n      <td>u</td>\n    </tr>\n    <tr>\n      <th>1</th>\n      <td>e</td>\n      <td>x</td>\n      <td>s</td>\n      <td>y</td>\n      <td>t</td>\n      <td>a</td>\n      <td>f</td>\n      <td>c</td>\n      <td>b</td>\n      <td>k</td>\n      <td>...</td>\n      <td>s</td>\n      <td>w</td>\n      <td>w</td>\n      <td>p</td>\n      <td>w</td>\n      <td>o</td>\n      <td>p</td>\n      <td>n</td>\n      <td>n</td>\n      <td>g</td>\n    </tr>\n    <tr>\n      <th>2</th>\n      <td>e</td>\n      <td>b</td>\n      <td>s</td>\n      <td>w</td>\n      <td>t</td>\n      <td>l</td>\n      <td>f</td>\n      <td>c</td>\n      <td>b</td>\n      <td>n</td>\n      <td>...</td>\n      <td>s</td>\n      <td>w</td>\n      <td>w</td>\n      <td>p</td>\n      <td>w</td>\n      <td>o</td>\n      <td>p</td>\n      <td>n</td>\n      <td>n</td>\n      <td>m</td>\n    </tr>\n    <tr>\n      <th>3</th>\n      <td>p</td>\n      <td>x</td>\n      <td>y</td>\n      <td>w</td>\n      <td>t</td>\n      <td>p</td>\n      <td>f</td>\n      <td>c</td>\n      <td>n</td>\n      <td>n</td>\n      <td>...</td>\n      <td>s</td>\n      <td>w</td>\n      <td>w</td>\n      <td>p</td>\n      <td>w</td>\n      <td>o</td>\n      <td>p</td>\n      <td>k</td>\n      <td>s</td>\n      <td>u</td>\n    </tr>\n    <tr>\n      <th>4</th>\n      <td>e</td>\n      <td>x</td>\n      <td>s</td>\n      <td>g</td>\n      <td>f</td>\n      <td>n</td>\n      <td>f</td>\n      <td>w</td>\n      <td>b</td>\n      <td>k</td>\n      <td>...</td>\n      <td>s</td>\n      <td>w</td>\n      <td>w</td>\n      <td>p</td>\n      <td>w</td>\n      <td>o</td>\n      <td>e</td>\n      <td>n</td>\n      <td>a</td>\n      <td>g</td>\n    </tr>\n  </tbody>\n</table>\n<p>5 rows × 23 columns</p>\n</div>"
     },
     "execution_count": 25,
     "metadata": {},
     "output_type": "execute_result"
    }
   ],
   "source": [
    "import pandas as pd\n",
    "import numpy as np\n",
    "import random\n",
    "from tensorflow import keras\n",
    "from sklearn.model_selection import train_test_split\n",
    "import matplotlib.pyplot as plt\n",
    "\n",
    "mushrooms = pd.read_csv(\"agaricus-lepiota_h.data\")\n",
    "for v in mushrooms.columns:\n",
    "    mushrooms[v] = mushrooms[v].fillna('z')\n",
    "mushrooms.head()"
   ],
   "metadata": {
    "collapsed": false,
    "ExecuteTime": {
     "end_time": "2024-05-28T12:52:01.829093Z",
     "start_time": "2024-05-28T12:51:59.131769Z"
    }
   },
   "id": "initial_id",
   "execution_count": 25
  },
  {
   "cell_type": "code",
   "outputs": [
    {
     "data": {
      "text/plain": "count     8124\nunique       2\ntop          e\nfreq      4208\nName: poisonous, dtype: object"
     },
     "execution_count": 26,
     "metadata": {},
     "output_type": "execute_result"
    }
   ],
   "source": [
    "mushroomsTarget = mushrooms[\"poisonous\"]\n",
    "mushroomsTarget.describe()"
   ],
   "metadata": {
    "collapsed": false,
    "ExecuteTime": {
     "end_time": "2024-05-28T12:52:01.845096Z",
     "start_time": "2024-05-28T12:52:01.830098Z"
    }
   },
   "id": "ac3840d98baf2d85",
   "execution_count": 26
  },
  {
   "cell_type": "code",
   "outputs": [
    {
     "data": {
      "text/plain": "       cap-shape cap-surface cap-color bruises  odor gill-attachment  \\\ncount       8124        8124      8124    8124  8124            8124   \nunique         6           4        10       2     9               2   \ntop            x           y         n       f     n               f   \nfreq        3656        3244      2284    4748  3528            7914   \n\n       gill-spacing gill-size gill-color stalk-shape  ...  \\\ncount          8124      8124       8124        8124  ...   \nunique            2         2         12           2  ...   \ntop               c         b          b           t  ...   \nfreq           6812      5612       1728        4608  ...   \n\n       stalk-surface-below-ring stalk-color-above-ring stalk-color-below-ring  \\\ncount                      8124                   8124                   8124   \nunique                        4                      9                      9   \ntop                           s                      w                      w   \nfreq                       4936                   4464                   4384   \n\n       veil-type veil-color ring-number ring-type spore-print-color  \\\ncount       8124       8124        8124      8124              8124   \nunique         1          4           3         5                 9   \ntop            p          w           o         p                 w   \nfreq        8124       7924        7488      3968              2388   \n\n       population habitat  \ncount        8124    8124  \nunique          6       7  \ntop             v       d  \nfreq         4040    3148  \n\n[4 rows x 22 columns]",
      "text/html": "<div>\n<style scoped>\n    .dataframe tbody tr th:only-of-type {\n        vertical-align: middle;\n    }\n\n    .dataframe tbody tr th {\n        vertical-align: top;\n    }\n\n    .dataframe thead th {\n        text-align: right;\n    }\n</style>\n<table border=\"1\" class=\"dataframe\">\n  <thead>\n    <tr style=\"text-align: right;\">\n      <th></th>\n      <th>cap-shape</th>\n      <th>cap-surface</th>\n      <th>cap-color</th>\n      <th>bruises</th>\n      <th>odor</th>\n      <th>gill-attachment</th>\n      <th>gill-spacing</th>\n      <th>gill-size</th>\n      <th>gill-color</th>\n      <th>stalk-shape</th>\n      <th>...</th>\n      <th>stalk-surface-below-ring</th>\n      <th>stalk-color-above-ring</th>\n      <th>stalk-color-below-ring</th>\n      <th>veil-type</th>\n      <th>veil-color</th>\n      <th>ring-number</th>\n      <th>ring-type</th>\n      <th>spore-print-color</th>\n      <th>population</th>\n      <th>habitat</th>\n    </tr>\n  </thead>\n  <tbody>\n    <tr>\n      <th>count</th>\n      <td>8124</td>\n      <td>8124</td>\n      <td>8124</td>\n      <td>8124</td>\n      <td>8124</td>\n      <td>8124</td>\n      <td>8124</td>\n      <td>8124</td>\n      <td>8124</td>\n      <td>8124</td>\n      <td>...</td>\n      <td>8124</td>\n      <td>8124</td>\n      <td>8124</td>\n      <td>8124</td>\n      <td>8124</td>\n      <td>8124</td>\n      <td>8124</td>\n      <td>8124</td>\n      <td>8124</td>\n      <td>8124</td>\n    </tr>\n    <tr>\n      <th>unique</th>\n      <td>6</td>\n      <td>4</td>\n      <td>10</td>\n      <td>2</td>\n      <td>9</td>\n      <td>2</td>\n      <td>2</td>\n      <td>2</td>\n      <td>12</td>\n      <td>2</td>\n      <td>...</td>\n      <td>4</td>\n      <td>9</td>\n      <td>9</td>\n      <td>1</td>\n      <td>4</td>\n      <td>3</td>\n      <td>5</td>\n      <td>9</td>\n      <td>6</td>\n      <td>7</td>\n    </tr>\n    <tr>\n      <th>top</th>\n      <td>x</td>\n      <td>y</td>\n      <td>n</td>\n      <td>f</td>\n      <td>n</td>\n      <td>f</td>\n      <td>c</td>\n      <td>b</td>\n      <td>b</td>\n      <td>t</td>\n      <td>...</td>\n      <td>s</td>\n      <td>w</td>\n      <td>w</td>\n      <td>p</td>\n      <td>w</td>\n      <td>o</td>\n      <td>p</td>\n      <td>w</td>\n      <td>v</td>\n      <td>d</td>\n    </tr>\n    <tr>\n      <th>freq</th>\n      <td>3656</td>\n      <td>3244</td>\n      <td>2284</td>\n      <td>4748</td>\n      <td>3528</td>\n      <td>7914</td>\n      <td>6812</td>\n      <td>5612</td>\n      <td>1728</td>\n      <td>4608</td>\n      <td>...</td>\n      <td>4936</td>\n      <td>4464</td>\n      <td>4384</td>\n      <td>8124</td>\n      <td>7924</td>\n      <td>7488</td>\n      <td>3968</td>\n      <td>2388</td>\n      <td>4040</td>\n      <td>3148</td>\n    </tr>\n  </tbody>\n</table>\n<p>4 rows × 22 columns</p>\n</div>"
     },
     "execution_count": 27,
     "metadata": {},
     "output_type": "execute_result"
    }
   ],
   "source": [
    "mushroomsFeatures = mushrooms.drop(columns = \"poisonous\")\n",
    "mushroomsFeatures.describe()"
   ],
   "metadata": {
    "collapsed": false,
    "ExecuteTime": {
     "end_time": "2024-05-28T12:52:01.892100Z",
     "start_time": "2024-05-28T12:52:01.846098Z"
    }
   },
   "id": "bc5b5a16b61e25d9",
   "execution_count": 27
  },
  {
   "cell_type": "code",
   "outputs": [],
   "source": [
    "binary_columns = [col for col in mushroomsFeatures.columns if mushroomsFeatures[col].nunique() == 2]\n",
    "mushroomsFeatures = pd.get_dummies(mushroomsFeatures, columns=[col for col in mushroomsFeatures.columns if col not in binary_columns], drop_first=False)\n",
    "mushroomsFeatures = pd.get_dummies(mushroomsFeatures, columns=binary_columns, drop_first=True)\n",
    "mushroomsTarget = pd.get_dummies(mushroomsTarget, columns=['poisonous'], drop_first=True)"
   ],
   "metadata": {
    "collapsed": false,
    "ExecuteTime": {
     "end_time": "2024-05-28T12:52:01.940097Z",
     "start_time": "2024-05-28T12:52:01.894100Z"
    }
   },
   "id": "136de40ab2c8208e",
   "execution_count": 28
  },
  {
   "cell_type": "code",
   "outputs": [
    {
     "data": {
      "text/plain": "            p\ncount    8124\nunique      2\ntop     False\nfreq     4208",
      "text/html": "<div>\n<style scoped>\n    .dataframe tbody tr th:only-of-type {\n        vertical-align: middle;\n    }\n\n    .dataframe tbody tr th {\n        vertical-align: top;\n    }\n\n    .dataframe thead th {\n        text-align: right;\n    }\n</style>\n<table border=\"1\" class=\"dataframe\">\n  <thead>\n    <tr style=\"text-align: right;\">\n      <th></th>\n      <th>p</th>\n    </tr>\n  </thead>\n  <tbody>\n    <tr>\n      <th>count</th>\n      <td>8124</td>\n    </tr>\n    <tr>\n      <th>unique</th>\n      <td>2</td>\n    </tr>\n    <tr>\n      <th>top</th>\n      <td>False</td>\n    </tr>\n    <tr>\n      <th>freq</th>\n      <td>4208</td>\n    </tr>\n  </tbody>\n</table>\n</div>"
     },
     "execution_count": 29,
     "metadata": {},
     "output_type": "execute_result"
    }
   ],
   "source": [
    "mushroomsTarget.describe()"
   ],
   "metadata": {
    "collapsed": false,
    "ExecuteTime": {
     "end_time": "2024-05-28T12:52:01.956098Z",
     "start_time": "2024-05-28T12:52:01.941097Z"
    }
   },
   "id": "3a10071ac8fb29fa",
   "execution_count": 29
  },
  {
   "cell_type": "code",
   "outputs": [
    {
     "data": {
      "text/plain": "       cap-shape_b cap-shape_c cap-shape_f cap-shape_k cap-shape_s  \\\ncount         8124        8124        8124        8124        8124   \nunique           2           2           2           2           2   \ntop          False       False       False       False       False   \nfreq          7672        8120        4972        7296        8092   \n\n       cap-shape_x cap-surface_f cap-surface_g cap-surface_s cap-surface_y  \\\ncount         8124          8124          8124          8124          8124   \nunique           2             2             2             2             2   \ntop          False         False         False         False         False   \nfreq          4468          5804          8120          5568          4880   \n\n        ... habitat_l habitat_m habitat_p habitat_u habitat_w bruises_t  \\\ncount   ...      8124      8124      8124      8124      8124      8124   \nunique  ...         2         2         2         2         2         2   \ntop     ...     False     False     False     False     False     False   \nfreq    ...      7292      7832      6980      7756      7932      4748   \n\n       gill-attachment_f gill-spacing_w gill-size_n stalk-shape_t  \ncount               8124           8124        8124          8124  \nunique                 2              2           2             2  \ntop                 True          False       False          True  \nfreq                7914           6812        5612          4608  \n\n[4 rows x 112 columns]",
      "text/html": "<div>\n<style scoped>\n    .dataframe tbody tr th:only-of-type {\n        vertical-align: middle;\n    }\n\n    .dataframe tbody tr th {\n        vertical-align: top;\n    }\n\n    .dataframe thead th {\n        text-align: right;\n    }\n</style>\n<table border=\"1\" class=\"dataframe\">\n  <thead>\n    <tr style=\"text-align: right;\">\n      <th></th>\n      <th>cap-shape_b</th>\n      <th>cap-shape_c</th>\n      <th>cap-shape_f</th>\n      <th>cap-shape_k</th>\n      <th>cap-shape_s</th>\n      <th>cap-shape_x</th>\n      <th>cap-surface_f</th>\n      <th>cap-surface_g</th>\n      <th>cap-surface_s</th>\n      <th>cap-surface_y</th>\n      <th>...</th>\n      <th>habitat_l</th>\n      <th>habitat_m</th>\n      <th>habitat_p</th>\n      <th>habitat_u</th>\n      <th>habitat_w</th>\n      <th>bruises_t</th>\n      <th>gill-attachment_f</th>\n      <th>gill-spacing_w</th>\n      <th>gill-size_n</th>\n      <th>stalk-shape_t</th>\n    </tr>\n  </thead>\n  <tbody>\n    <tr>\n      <th>count</th>\n      <td>8124</td>\n      <td>8124</td>\n      <td>8124</td>\n      <td>8124</td>\n      <td>8124</td>\n      <td>8124</td>\n      <td>8124</td>\n      <td>8124</td>\n      <td>8124</td>\n      <td>8124</td>\n      <td>...</td>\n      <td>8124</td>\n      <td>8124</td>\n      <td>8124</td>\n      <td>8124</td>\n      <td>8124</td>\n      <td>8124</td>\n      <td>8124</td>\n      <td>8124</td>\n      <td>8124</td>\n      <td>8124</td>\n    </tr>\n    <tr>\n      <th>unique</th>\n      <td>2</td>\n      <td>2</td>\n      <td>2</td>\n      <td>2</td>\n      <td>2</td>\n      <td>2</td>\n      <td>2</td>\n      <td>2</td>\n      <td>2</td>\n      <td>2</td>\n      <td>...</td>\n      <td>2</td>\n      <td>2</td>\n      <td>2</td>\n      <td>2</td>\n      <td>2</td>\n      <td>2</td>\n      <td>2</td>\n      <td>2</td>\n      <td>2</td>\n      <td>2</td>\n    </tr>\n    <tr>\n      <th>top</th>\n      <td>False</td>\n      <td>False</td>\n      <td>False</td>\n      <td>False</td>\n      <td>False</td>\n      <td>False</td>\n      <td>False</td>\n      <td>False</td>\n      <td>False</td>\n      <td>False</td>\n      <td>...</td>\n      <td>False</td>\n      <td>False</td>\n      <td>False</td>\n      <td>False</td>\n      <td>False</td>\n      <td>False</td>\n      <td>True</td>\n      <td>False</td>\n      <td>False</td>\n      <td>True</td>\n    </tr>\n    <tr>\n      <th>freq</th>\n      <td>7672</td>\n      <td>8120</td>\n      <td>4972</td>\n      <td>7296</td>\n      <td>8092</td>\n      <td>4468</td>\n      <td>5804</td>\n      <td>8120</td>\n      <td>5568</td>\n      <td>4880</td>\n      <td>...</td>\n      <td>7292</td>\n      <td>7832</td>\n      <td>6980</td>\n      <td>7756</td>\n      <td>7932</td>\n      <td>4748</td>\n      <td>7914</td>\n      <td>6812</td>\n      <td>5612</td>\n      <td>4608</td>\n    </tr>\n  </tbody>\n</table>\n<p>4 rows × 112 columns</p>\n</div>"
     },
     "execution_count": 30,
     "metadata": {},
     "output_type": "execute_result"
    }
   ],
   "source": [
    "mushroomsFeatures.describe()"
   ],
   "metadata": {
    "collapsed": false,
    "ExecuteTime": {
     "end_time": "2024-05-28T12:52:02.035099Z",
     "start_time": "2024-05-28T12:52:01.957095Z"
    }
   },
   "id": "b6cbd79c4ee028f9",
   "execution_count": 30
  },
  {
   "cell_type": "code",
   "outputs": [],
   "source": [
    "\n",
    "X_train, X_test, y_train, y_test = train_test_split(mushroomsFeatures, mushroomsTarget, test_size=0.2, random_state=0)"
   ],
   "metadata": {
    "collapsed": false,
    "ExecuteTime": {
     "end_time": "2024-05-28T12:52:02.051093Z",
     "start_time": "2024-05-28T12:52:02.037099Z"
    }
   },
   "id": "d4e48c5e0fa95622",
   "execution_count": 31
  },
  {
   "cell_type": "code",
   "outputs": [],
   "source": [
    "\n",
    "classifier_input = keras.Input(shape=(X_train.shape[1],))\n",
    "x = keras.layers.Dense(\n",
    "    units=16,\n",
    "    activation='relu',\n",
    "    use_bias=True,\n",
    "    bias_initializer=\"zeros\",\n",
    ")(classifier_input)\n",
    "x = keras.layers.Dense(\n",
    "    units=8,\n",
    "    activation='relu',\n",
    "    use_bias=True,\n",
    "    bias_initializer=\"zeros\",\n",
    ")(x)\n",
    "classifier_output = keras.layers.Dense(\n",
    "    units=1,\n",
    "    activation='relu',\n",
    "    use_bias=True,\n",
    "    bias_initializer=\"zeros\",\n",
    ")(x)\n",
    "classifier = keras.Model(inputs=classifier_input, outputs=classifier_output)\n"
   ],
   "metadata": {
    "collapsed": false,
    "ExecuteTime": {
     "end_time": "2024-05-28T12:52:02.223721Z",
     "start_time": "2024-05-28T12:52:02.052095Z"
    }
   },
   "id": "9b5bed580b2f9e88",
   "execution_count": 32
  },
  {
   "cell_type": "code",
   "outputs": [
    {
     "data": {
      "text/plain": "\u001B[1mModel: \"functional_1\"\u001B[0m\n",
      "text/html": "<pre style=\"white-space:pre;overflow-x:auto;line-height:normal;font-family:Menlo,'DejaVu Sans Mono',consolas,'Courier New',monospace\"><span style=\"font-weight: bold\">Model: \"functional_1\"</span>\n</pre>\n"
     },
     "metadata": {},
     "output_type": "display_data"
    },
    {
     "data": {
      "text/plain": "┏━━━━━━━━━━━━━━━━━━━━━━━━━━━━━━━━━┳━━━━━━━━━━━━━━━━━━━━━━━━┳━━━━━━━━━━━━━━━┓\n┃\u001B[1m \u001B[0m\u001B[1mLayer (type)                   \u001B[0m\u001B[1m \u001B[0m┃\u001B[1m \u001B[0m\u001B[1mOutput Shape          \u001B[0m\u001B[1m \u001B[0m┃\u001B[1m \u001B[0m\u001B[1m      Param #\u001B[0m\u001B[1m \u001B[0m┃\n┡━━━━━━━━━━━━━━━━━━━━━━━━━━━━━━━━━╇━━━━━━━━━━━━━━━━━━━━━━━━╇━━━━━━━━━━━━━━━┩\n│ input_layer (\u001B[38;5;33mInputLayer\u001B[0m)        │ (\u001B[38;5;45mNone\u001B[0m, \u001B[38;5;34m112\u001B[0m)            │             \u001B[38;5;34m0\u001B[0m │\n├─────────────────────────────────┼────────────────────────┼───────────────┤\n│ dense (\u001B[38;5;33mDense\u001B[0m)                   │ (\u001B[38;5;45mNone\u001B[0m, \u001B[38;5;34m16\u001B[0m)             │         \u001B[38;5;34m1,808\u001B[0m │\n├─────────────────────────────────┼────────────────────────┼───────────────┤\n│ dense_1 (\u001B[38;5;33mDense\u001B[0m)                 │ (\u001B[38;5;45mNone\u001B[0m, \u001B[38;5;34m8\u001B[0m)              │           \u001B[38;5;34m136\u001B[0m │\n├─────────────────────────────────┼────────────────────────┼───────────────┤\n│ dense_2 (\u001B[38;5;33mDense\u001B[0m)                 │ (\u001B[38;5;45mNone\u001B[0m, \u001B[38;5;34m1\u001B[0m)              │             \u001B[38;5;34m9\u001B[0m │\n└─────────────────────────────────┴────────────────────────┴───────────────┘\n",
      "text/html": "<pre style=\"white-space:pre;overflow-x:auto;line-height:normal;font-family:Menlo,'DejaVu Sans Mono',consolas,'Courier New',monospace\">┏━━━━━━━━━━━━━━━━━━━━━━━━━━━━━━━━━┳━━━━━━━━━━━━━━━━━━━━━━━━┳━━━━━━━━━━━━━━━┓\n┃<span style=\"font-weight: bold\"> Layer (type)                    </span>┃<span style=\"font-weight: bold\"> Output Shape           </span>┃<span style=\"font-weight: bold\">       Param # </span>┃\n┡━━━━━━━━━━━━━━━━━━━━━━━━━━━━━━━━━╇━━━━━━━━━━━━━━━━━━━━━━━━╇━━━━━━━━━━━━━━━┩\n│ input_layer (<span style=\"color: #0087ff; text-decoration-color: #0087ff\">InputLayer</span>)        │ (<span style=\"color: #00d7ff; text-decoration-color: #00d7ff\">None</span>, <span style=\"color: #00af00; text-decoration-color: #00af00\">112</span>)            │             <span style=\"color: #00af00; text-decoration-color: #00af00\">0</span> │\n├─────────────────────────────────┼────────────────────────┼───────────────┤\n│ dense (<span style=\"color: #0087ff; text-decoration-color: #0087ff\">Dense</span>)                   │ (<span style=\"color: #00d7ff; text-decoration-color: #00d7ff\">None</span>, <span style=\"color: #00af00; text-decoration-color: #00af00\">16</span>)             │         <span style=\"color: #00af00; text-decoration-color: #00af00\">1,808</span> │\n├─────────────────────────────────┼────────────────────────┼───────────────┤\n│ dense_1 (<span style=\"color: #0087ff; text-decoration-color: #0087ff\">Dense</span>)                 │ (<span style=\"color: #00d7ff; text-decoration-color: #00d7ff\">None</span>, <span style=\"color: #00af00; text-decoration-color: #00af00\">8</span>)              │           <span style=\"color: #00af00; text-decoration-color: #00af00\">136</span> │\n├─────────────────────────────────┼────────────────────────┼───────────────┤\n│ dense_2 (<span style=\"color: #0087ff; text-decoration-color: #0087ff\">Dense</span>)                 │ (<span style=\"color: #00d7ff; text-decoration-color: #00d7ff\">None</span>, <span style=\"color: #00af00; text-decoration-color: #00af00\">1</span>)              │             <span style=\"color: #00af00; text-decoration-color: #00af00\">9</span> │\n└─────────────────────────────────┴────────────────────────┴───────────────┘\n</pre>\n"
     },
     "metadata": {},
     "output_type": "display_data"
    },
    {
     "data": {
      "text/plain": "\u001B[1m Total params: \u001B[0m\u001B[38;5;34m1,953\u001B[0m (7.63 KB)\n",
      "text/html": "<pre style=\"white-space:pre;overflow-x:auto;line-height:normal;font-family:Menlo,'DejaVu Sans Mono',consolas,'Courier New',monospace\"><span style=\"font-weight: bold\"> Total params: </span><span style=\"color: #00af00; text-decoration-color: #00af00\">1,953</span> (7.63 KB)\n</pre>\n"
     },
     "metadata": {},
     "output_type": "display_data"
    },
    {
     "data": {
      "text/plain": "\u001B[1m Trainable params: \u001B[0m\u001B[38;5;34m1,953\u001B[0m (7.63 KB)\n",
      "text/html": "<pre style=\"white-space:pre;overflow-x:auto;line-height:normal;font-family:Menlo,'DejaVu Sans Mono',consolas,'Courier New',monospace\"><span style=\"font-weight: bold\"> Trainable params: </span><span style=\"color: #00af00; text-decoration-color: #00af00\">1,953</span> (7.63 KB)\n</pre>\n"
     },
     "metadata": {},
     "output_type": "display_data"
    },
    {
     "data": {
      "text/plain": "\u001B[1m Non-trainable params: \u001B[0m\u001B[38;5;34m0\u001B[0m (0.00 B)\n",
      "text/html": "<pre style=\"white-space:pre;overflow-x:auto;line-height:normal;font-family:Menlo,'DejaVu Sans Mono',consolas,'Courier New',monospace\"><span style=\"font-weight: bold\"> Non-trainable params: </span><span style=\"color: #00af00; text-decoration-color: #00af00\">0</span> (0.00 B)\n</pre>\n"
     },
     "metadata": {},
     "output_type": "display_data"
    }
   ],
   "source": [
    "classifier.summary()"
   ],
   "metadata": {
    "collapsed": false,
    "ExecuteTime": {
     "end_time": "2024-05-28T12:52:02.286338Z",
     "start_time": "2024-05-28T12:52:02.224718Z"
    }
   },
   "id": "9f8b7fac831693b1",
   "execution_count": 33
  },
  {
   "cell_type": "code",
   "outputs": [],
   "source": [
    "classifier.compile(\n",
    "    optimizer=keras.optimizers.Adam(learning_rate=0.001),\n",
    "    # loss=keras.losses.BinaryCrossentropy(),\n",
    "    loss=keras.losses.MSE,\n",
    "    metrics=[\n",
    "        keras.metrics.BinaryAccuracy(),\n",
    "        keras.metrics.Recall(),\n",
    "        keras.metrics.Precision(),\n",
    "        keras.metrics.AUC()\n",
    "    ],\n",
    ")"
   ],
   "metadata": {
    "collapsed": false,
    "ExecuteTime": {
     "end_time": "2024-05-28T12:52:02.318335Z",
     "start_time": "2024-05-28T12:52:02.290335Z"
    }
   },
   "id": "c1f6c020ae3e0f97",
   "execution_count": 34
  },
  {
   "cell_type": "code",
   "outputs": [
    {
     "name": "stdout",
     "output_type": "stream",
     "text": [
      "\u001B[1m51/51\u001B[0m \u001B[32m━━━━━━━━━━━━━━━━━━━━\u001B[0m\u001B[37m\u001B[0m \u001B[1m0s\u001B[0m 1ms/step - auc: 0.4707 - binary_accuracy: 0.5176 - loss: 0.4647 - precision: 0.0000e+00 - recall: 0.0000e+00   \n"
     ]
    },
    {
     "data": {
      "text/plain": "[0.4613454341888428, 0.5243076682090759, 0.0, 0.0, 0.45684003829956055]"
     },
     "execution_count": 35,
     "metadata": {},
     "output_type": "execute_result"
    }
   ],
   "source": [
    "classifier.evaluate(\n",
    "    x=X_test.astype('int').values,\n",
    "    y=y_test.astype('int').values,\n",
    "    batch_size=None,\n",
    "    verbose=1,\n",
    ")"
   ],
   "metadata": {
    "collapsed": false,
    "ExecuteTime": {
     "end_time": "2024-05-28T12:52:02.846338Z",
     "start_time": "2024-05-28T12:52:02.319337Z"
    }
   },
   "id": "4e137b4bab429326",
   "execution_count": 35
  },
  {
   "cell_type": "code",
   "outputs": [
    {
     "name": "stdout",
     "output_type": "stream",
     "text": [
      "Epoch 1/10\n",
      "\u001B[1m204/204\u001B[0m \u001B[32m━━━━━━━━━━━━━━━━━━━━\u001B[0m\u001B[37m\u001B[0m \u001B[1m1s\u001B[0m 917us/step - auc: 0.7435 - binary_accuracy: 0.7416 - loss: 0.2245 - precision: 0.8282 - recall: 0.4784\n",
      "Epoch 2/10\n",
      "\u001B[1m204/204\u001B[0m \u001B[32m━━━━━━━━━━━━━━━━━━━━\u001B[0m\u001B[37m\u001B[0m \u001B[1m0s\u001B[0m 862us/step - auc: 0.9984 - binary_accuracy: 0.9938 - loss: 0.0085 - precision: 0.9954 - recall: 0.9917\n",
      "Epoch 3/10\n",
      "\u001B[1m204/204\u001B[0m \u001B[32m━━━━━━━━━━━━━━━━━━━━\u001B[0m\u001B[37m\u001B[0m \u001B[1m0s\u001B[0m 936us/step - auc: 0.9984 - binary_accuracy: 0.9979 - loss: 0.0041 - precision: 1.0000 - recall: 0.9957\n",
      "Epoch 4/10\n",
      "\u001B[1m204/204\u001B[0m \u001B[32m━━━━━━━━━━━━━━━━━━━━\u001B[0m\u001B[37m\u001B[0m \u001B[1m0s\u001B[0m 852us/step - auc: 0.9990 - binary_accuracy: 0.9991 - loss: 0.0019 - precision: 1.0000 - recall: 0.9981\n",
      "Epoch 5/10\n",
      "\u001B[1m204/204\u001B[0m \u001B[32m━━━━━━━━━━━━━━━━━━━━\u001B[0m\u001B[37m\u001B[0m \u001B[1m0s\u001B[0m 803us/step - auc: 0.9990 - binary_accuracy: 0.9990 - loss: 0.0015 - precision: 1.0000 - recall: 0.9980\n",
      "Epoch 6/10\n",
      "\u001B[1m204/204\u001B[0m \u001B[32m━━━━━━━━━━━━━━━━━━━━\u001B[0m\u001B[37m\u001B[0m \u001B[1m0s\u001B[0m 893us/step - auc: 0.9989 - binary_accuracy: 0.9990 - loss: 0.0014 - precision: 1.0000 - recall: 0.9979\n",
      "Epoch 7/10\n",
      "\u001B[1m204/204\u001B[0m \u001B[32m━━━━━━━━━━━━━━━━━━━━\u001B[0m\u001B[37m\u001B[0m \u001B[1m0s\u001B[0m 837us/step - auc: 0.9994 - binary_accuracy: 0.9994 - loss: 7.9505e-04 - precision: 1.0000 - recall: 0.9987\n",
      "Epoch 8/10\n",
      "\u001B[1m204/204\u001B[0m \u001B[32m━━━━━━━━━━━━━━━━━━━━\u001B[0m\u001B[37m\u001B[0m \u001B[1m0s\u001B[0m 892us/step - auc: 0.9983 - binary_accuracy: 0.9984 - loss: 0.0017 - precision: 1.0000 - recall: 0.9967\n",
      "Epoch 9/10\n",
      "\u001B[1m204/204\u001B[0m \u001B[32m━━━━━━━━━━━━━━━━━━━━\u001B[0m\u001B[37m\u001B[0m \u001B[1m0s\u001B[0m 828us/step - auc: 0.9991 - binary_accuracy: 0.9992 - loss: 9.2746e-04 - precision: 1.0000 - recall: 0.9982\n",
      "Epoch 10/10\n",
      "\u001B[1m204/204\u001B[0m \u001B[32m━━━━━━━━━━━━━━━━━━━━\u001B[0m\u001B[37m\u001B[0m \u001B[1m0s\u001B[0m 793us/step - auc: 0.9983 - binary_accuracy: 0.9983 - loss: 0.0018 - precision: 1.0000 - recall: 0.9967\n"
     ]
    }
   ],
   "source": [
    "history = classifier.fit(\n",
    "    x=X_train.astype('int').values,\n",
    "    y=y_train.astype('int').values,\n",
    "    batch_size=None,\n",
    "    epochs=10,\n",
    "    shuffle=True,\n",
    "    steps_per_epoch=None,\n",
    ")"
   ],
   "metadata": {
    "collapsed": false,
    "ExecuteTime": {
     "end_time": "2024-05-28T12:52:06.138912Z",
     "start_time": "2024-05-28T12:52:02.847340Z"
    }
   },
   "id": "9e6f761892ea07d1",
   "execution_count": 36
  },
  {
   "cell_type": "code",
   "outputs": [
    {
     "data": {
      "text/plain": "<matplotlib.legend.Legend at 0x208cf52bd90>"
     },
     "execution_count": 37,
     "metadata": {},
     "output_type": "execute_result"
    },
    {
     "data": {
      "text/plain": "<Figure size 640x480 with 1 Axes>",
      "image/png": "[encoded data removed]"
     },
     "metadata": {},
     "output_type": "display_data"
    }
   ],
   "source": [
    "for k in history.history.keys():\n",
    "  plt.plot(history.history[k])\n",
    "plt.legend(history.history.keys(), loc='upper left')"
   ],
   "metadata": {
    "collapsed": false,
    "ExecuteTime": {
     "end_time": "2024-05-28T12:52:06.282121Z",
     "start_time": "2024-05-28T12:52:06.139912Z"
    }
   },
   "id": "d53a1aca64eda17",
   "execution_count": 37
  },
  {
   "cell_type": "markdown",
   "source": [],
   "metadata": {
    "collapsed": false
   },
   "id": "5bbd55c8d241827d"
  },
  {
   "cell_type": "markdown",
   "source": [
    "# Laptop"
   ],
   "metadata": {
    "collapsed": false
   },
   "id": "a4db011ceeca7ec6"
  },
  {
   "cell_type": "code",
   "outputs": [
    {
     "data": {
      "text/plain": "       Processor_Speed     RAM_Size  Storage_Capacity  Screen_Size  \\\ncount      1000.000000  1000.000000       1000.000000  1000.000000   \nmean          2.750611    15.500000        584.576000    14.056790   \nstd           0.731796    10.988665        313.438517     1.705882   \nmin           1.511580     4.000000        256.000000    11.012111   \n25%           2.089246     8.000000        256.000000    12.635523   \n50%           2.760885    16.000000        512.000000    14.099643   \n75%           3.362610    32.000000       1000.000000    15.528590   \nmax           3.998534    32.000000       1000.000000    16.985737   \n\n            Weight         Price  \ncount  1000.000000   1000.000000  \nmean      3.466919  19647.258047  \nstd       0.866541   9408.488800  \nmin       2.000560   8570.012950  \n25%       2.717211  10145.638575  \n50%       3.464630  17298.948019  \n75%       4.212583  31569.040889  \nmax       4.990728  33503.935037  ",
      "text/html": "<div>\n<style scoped>\n    .dataframe tbody tr th:only-of-type {\n        vertical-align: middle;\n    }\n\n    .dataframe tbody tr th {\n        vertical-align: top;\n    }\n\n    .dataframe thead th {\n        text-align: right;\n    }\n</style>\n<table border=\"1\" class=\"dataframe\">\n  <thead>\n    <tr style=\"text-align: right;\">\n      <th></th>\n      <th>Processor_Speed</th>\n      <th>RAM_Size</th>\n      <th>Storage_Capacity</th>\n      <th>Screen_Size</th>\n      <th>Weight</th>\n      <th>Price</th>\n    </tr>\n  </thead>\n  <tbody>\n    <tr>\n      <th>count</th>\n      <td>1000.000000</td>\n      <td>1000.000000</td>\n      <td>1000.000000</td>\n      <td>1000.000000</td>\n      <td>1000.000000</td>\n      <td>1000.000000</td>\n    </tr>\n    <tr>\n      <th>mean</th>\n      <td>2.750611</td>\n      <td>15.500000</td>\n      <td>584.576000</td>\n      <td>14.056790</td>\n      <td>3.466919</td>\n      <td>19647.258047</td>\n    </tr>\n    <tr>\n      <th>std</th>\n      <td>0.731796</td>\n      <td>10.988665</td>\n      <td>313.438517</td>\n      <td>1.705882</td>\n      <td>0.866541</td>\n      <td>9408.488800</td>\n    </tr>\n    <tr>\n      <th>min</th>\n      <td>1.511580</td>\n      <td>4.000000</td>\n      <td>256.000000</td>\n      <td>11.012111</td>\n      <td>2.000560</td>\n      <td>8570.012950</td>\n    </tr>\n    <tr>\n      <th>25%</th>\n      <td>2.089246</td>\n      <td>8.000000</td>\n      <td>256.000000</td>\n      <td>12.635523</td>\n      <td>2.717211</td>\n      <td>10145.638575</td>\n    </tr>\n    <tr>\n      <th>50%</th>\n      <td>2.760885</td>\n      <td>16.000000</td>\n      <td>512.000000</td>\n      <td>14.099643</td>\n      <td>3.464630</td>\n      <td>17298.948019</td>\n    </tr>\n    <tr>\n      <th>75%</th>\n      <td>3.362610</td>\n      <td>32.000000</td>\n      <td>1000.000000</td>\n      <td>15.528590</td>\n      <td>4.212583</td>\n      <td>31569.040889</td>\n    </tr>\n    <tr>\n      <th>max</th>\n      <td>3.998534</td>\n      <td>32.000000</td>\n      <td>1000.000000</td>\n      <td>16.985737</td>\n      <td>4.990728</td>\n      <td>33503.935037</td>\n    </tr>\n  </tbody>\n</table>\n</div>"
     },
     "execution_count": 38,
     "metadata": {},
     "output_type": "execute_result"
    }
   ],
   "source": [
    "laptop = pd.read_csv(\"Laptop_price.csv\")\n",
    "laptop.describe()"
   ],
   "metadata": {
    "collapsed": false,
    "ExecuteTime": {
     "end_time": "2024-05-28T12:52:06.314121Z",
     "start_time": "2024-05-28T12:52:06.283122Z"
    }
   },
   "id": "acd3973c3ba258e3",
   "execution_count": 38
  },
  {
   "cell_type": "code",
   "outputs": [
    {
     "data": {
      "text/plain": "   Processor_Speed  RAM_Size  Storage_Capacity  Screen_Size    Weight  \\\n0         0.932352  0.428571          0.344086     0.028967  0.214214   \n1         0.563441  0.000000          1.000000     0.050097  0.421198   \n2         0.695649  0.000000          0.000000     0.140771  0.009532   \n3         0.922682  0.428571          0.344086     0.212308  0.860589   \n4         0.706292  1.000000          1.000000     0.666055  0.733374   \n\n      Price  Brand_Acer  Brand_Asus  Brand_Dell  Brand_HP  Brand_Lenovo  \n0  0.353939       False        True       False     False         False  \n1  0.923946        True       False       False     False         False  \n2  0.923946       False       False       False     False          True  \n3  0.355609        True       False       False     False         False  \n4  0.923946        True       False       False     False         False  ",
      "text/html": "<div>\n<style scoped>\n    .dataframe tbody tr th:only-of-type {\n        vertical-align: middle;\n    }\n\n    .dataframe tbody tr th {\n        vertical-align: top;\n    }\n\n    .dataframe thead th {\n        text-align: right;\n    }\n</style>\n<table border=\"1\" class=\"dataframe\">\n  <thead>\n    <tr style=\"text-align: right;\">\n      <th></th>\n      <th>Processor_Speed</th>\n      <th>RAM_Size</th>\n      <th>Storage_Capacity</th>\n      <th>Screen_Size</th>\n      <th>Weight</th>\n      <th>Price</th>\n      <th>Brand_Acer</th>\n      <th>Brand_Asus</th>\n      <th>Brand_Dell</th>\n      <th>Brand_HP</th>\n      <th>Brand_Lenovo</th>\n    </tr>\n  </thead>\n  <tbody>\n    <tr>\n      <th>0</th>\n      <td>0.932352</td>\n      <td>0.428571</td>\n      <td>0.344086</td>\n      <td>0.028967</td>\n      <td>0.214214</td>\n      <td>0.353939</td>\n      <td>False</td>\n      <td>True</td>\n      <td>False</td>\n      <td>False</td>\n      <td>False</td>\n    </tr>\n    <tr>\n      <th>1</th>\n      <td>0.563441</td>\n      <td>0.000000</td>\n      <td>1.000000</td>\n      <td>0.050097</td>\n      <td>0.421198</td>\n      <td>0.923946</td>\n      <td>True</td>\n      <td>False</td>\n      <td>False</td>\n      <td>False</td>\n      <td>False</td>\n    </tr>\n    <tr>\n      <th>2</th>\n      <td>0.695649</td>\n      <td>0.000000</td>\n      <td>0.000000</td>\n      <td>0.140771</td>\n      <td>0.009532</td>\n      <td>0.923946</td>\n      <td>False</td>\n      <td>False</td>\n      <td>False</td>\n      <td>False</td>\n      <td>True</td>\n    </tr>\n    <tr>\n      <th>3</th>\n      <td>0.922682</td>\n      <td>0.428571</td>\n      <td>0.344086</td>\n      <td>0.212308</td>\n      <td>0.860589</td>\n      <td>0.355609</td>\n      <td>True</td>\n      <td>False</td>\n      <td>False</td>\n      <td>False</td>\n      <td>False</td>\n    </tr>\n    <tr>\n      <th>4</th>\n      <td>0.706292</td>\n      <td>1.000000</td>\n      <td>1.000000</td>\n      <td>0.666055</td>\n      <td>0.733374</td>\n      <td>0.923946</td>\n      <td>True</td>\n      <td>False</td>\n      <td>False</td>\n      <td>False</td>\n      <td>False</td>\n    </tr>\n  </tbody>\n</table>\n</div>"
     },
     "execution_count": 39,
     "metadata": {},
     "output_type": "execute_result"
    }
   ],
   "source": [
    "priceMin = laptop[\"Price\"].min()\n",
    "priceMax = laptop[\"Price\"].max()\n",
    "def unnorm_price(price):\n",
    "  return price * (priceMax - priceMin) + priceMin\n",
    "fractional = ['Processor_Speed', 'Screen_Size', 'Weight', 'Price']\n",
    "for col in [c for c in laptop.columns if c not in [\"Brand\"]]:\n",
    "    laptop[col] = ((laptop[col] - laptop[col].min()) / (laptop[col].max() - laptop[col].min()))\n",
    "laptop = pd.get_dummies(laptop, columns=[\"Brand\"], drop_first=False)\n",
    "laptop.head()"
   ],
   "metadata": {
    "collapsed": false,
    "ExecuteTime": {
     "end_time": "2024-05-28T12:52:06.345123Z",
     "start_time": "2024-05-28T12:52:06.315122Z"
    }
   },
   "id": "b5190568a002b34c",
   "execution_count": 39
  },
  {
   "cell_type": "code",
   "outputs": [],
   "source": [
    "\n",
    "laptopFeatures = laptop.drop(\"Price\", axis=1)\n",
    "laptopTarget = laptop[\"Price\"]\n",
    "\n",
    "\n",
    "X_train, X_test, y_train, y_test = train_test_split(laptopFeatures, laptopTarget, test_size=0.2, random_state=0)"
   ],
   "metadata": {
    "collapsed": false,
    "ExecuteTime": {
     "end_time": "2024-05-28T12:52:06.361122Z",
     "start_time": "2024-05-28T12:52:06.346122Z"
    }
   },
   "id": "7e8bd082ae7b6505",
   "execution_count": 40
  },
  {
   "cell_type": "code",
   "outputs": [],
   "source": [
    "\n",
    "regressor_input = keras.Input(shape=(X_train.shape[1],))\n",
    "x = keras.layers.Dense(\n",
    "    units=10,\n",
    "    activation='relu',\n",
    "    use_bias=True,\n",
    "    bias_initializer=\"zeros\",\n",
    ")(regressor_input)\n",
    "regressor_output = keras.layers.Dense(\n",
    "    units=1,\n",
    "    activation='relu',\n",
    "    use_bias=True,\n",
    "    bias_initializer=\"zeros\",\n",
    ")(x)\n",
    "regressor = keras.Model(inputs=regressor_input, outputs=regressor_output)"
   ],
   "metadata": {
    "collapsed": false,
    "ExecuteTime": {
     "end_time": "2024-05-28T12:52:06.393122Z",
     "start_time": "2024-05-28T12:52:06.362122Z"
    }
   },
   "id": "69a87b8e8fd0e3e8",
   "execution_count": 41
  },
  {
   "cell_type": "code",
   "outputs": [
    {
     "data": {
      "text/plain": "\u001B[1mModel: \"functional_3\"\u001B[0m\n",
      "text/html": "<pre style=\"white-space:pre;overflow-x:auto;line-height:normal;font-family:Menlo,'DejaVu Sans Mono',consolas,'Courier New',monospace\"><span style=\"font-weight: bold\">Model: \"functional_3\"</span>\n</pre>\n"
     },
     "metadata": {},
     "output_type": "display_data"
    },
    {
     "data": {
      "text/plain": "┏━━━━━━━━━━━━━━━━━━━━━━━━━━━━━━━━━┳━━━━━━━━━━━━━━━━━━━━━━━━┳━━━━━━━━━━━━━━━┓\n┃\u001B[1m \u001B[0m\u001B[1mLayer (type)                   \u001B[0m\u001B[1m \u001B[0m┃\u001B[1m \u001B[0m\u001B[1mOutput Shape          \u001B[0m\u001B[1m \u001B[0m┃\u001B[1m \u001B[0m\u001B[1m      Param #\u001B[0m\u001B[1m \u001B[0m┃\n┡━━━━━━━━━━━━━━━━━━━━━━━━━━━━━━━━━╇━━━━━━━━━━━━━━━━━━━━━━━━╇━━━━━━━━━━━━━━━┩\n│ input_layer_1 (\u001B[38;5;33mInputLayer\u001B[0m)      │ (\u001B[38;5;45mNone\u001B[0m, \u001B[38;5;34m10\u001B[0m)             │             \u001B[38;5;34m0\u001B[0m │\n├─────────────────────────────────┼────────────────────────┼───────────────┤\n│ dense_3 (\u001B[38;5;33mDense\u001B[0m)                 │ (\u001B[38;5;45mNone\u001B[0m, \u001B[38;5;34m10\u001B[0m)             │           \u001B[38;5;34m110\u001B[0m │\n├─────────────────────────────────┼────────────────────────┼───────────────┤\n│ dense_4 (\u001B[38;5;33mDense\u001B[0m)                 │ (\u001B[38;5;45mNone\u001B[0m, \u001B[38;5;34m1\u001B[0m)              │            \u001B[38;5;34m11\u001B[0m │\n└─────────────────────────────────┴────────────────────────┴───────────────┘\n",
      "text/html": "<pre style=\"white-space:pre;overflow-x:auto;line-height:normal;font-family:Menlo,'DejaVu Sans Mono',consolas,'Courier New',monospace\">┏━━━━━━━━━━━━━━━━━━━━━━━━━━━━━━━━━┳━━━━━━━━━━━━━━━━━━━━━━━━┳━━━━━━━━━━━━━━━┓\n┃<span style=\"font-weight: bold\"> Layer (type)                    </span>┃<span style=\"font-weight: bold\"> Output Shape           </span>┃<span style=\"font-weight: bold\">       Param # </span>┃\n┡━━━━━━━━━━━━━━━━━━━━━━━━━━━━━━━━━╇━━━━━━━━━━━━━━━━━━━━━━━━╇━━━━━━━━━━━━━━━┩\n│ input_layer_1 (<span style=\"color: #0087ff; text-decoration-color: #0087ff\">InputLayer</span>)      │ (<span style=\"color: #00d7ff; text-decoration-color: #00d7ff\">None</span>, <span style=\"color: #00af00; text-decoration-color: #00af00\">10</span>)             │             <span style=\"color: #00af00; text-decoration-color: #00af00\">0</span> │\n├─────────────────────────────────┼────────────────────────┼───────────────┤\n│ dense_3 (<span style=\"color: #0087ff; text-decoration-color: #0087ff\">Dense</span>)                 │ (<span style=\"color: #00d7ff; text-decoration-color: #00d7ff\">None</span>, <span style=\"color: #00af00; text-decoration-color: #00af00\">10</span>)             │           <span style=\"color: #00af00; text-decoration-color: #00af00\">110</span> │\n├─────────────────────────────────┼────────────────────────┼───────────────┤\n│ dense_4 (<span style=\"color: #0087ff; text-decoration-color: #0087ff\">Dense</span>)                 │ (<span style=\"color: #00d7ff; text-decoration-color: #00d7ff\">None</span>, <span style=\"color: #00af00; text-decoration-color: #00af00\">1</span>)              │            <span style=\"color: #00af00; text-decoration-color: #00af00\">11</span> │\n└─────────────────────────────────┴────────────────────────┴───────────────┘\n</pre>\n"
     },
     "metadata": {},
     "output_type": "display_data"
    },
    {
     "data": {
      "text/plain": "\u001B[1m Total params: \u001B[0m\u001B[38;5;34m121\u001B[0m (484.00 B)\n",
      "text/html": "<pre style=\"white-space:pre;overflow-x:auto;line-height:normal;font-family:Menlo,'DejaVu Sans Mono',consolas,'Courier New',monospace\"><span style=\"font-weight: bold\"> Total params: </span><span style=\"color: #00af00; text-decoration-color: #00af00\">121</span> (484.00 B)\n</pre>\n"
     },
     "metadata": {},
     "output_type": "display_data"
    },
    {
     "data": {
      "text/plain": "\u001B[1m Trainable params: \u001B[0m\u001B[38;5;34m121\u001B[0m (484.00 B)\n",
      "text/html": "<pre style=\"white-space:pre;overflow-x:auto;line-height:normal;font-family:Menlo,'DejaVu Sans Mono',consolas,'Courier New',monospace\"><span style=\"font-weight: bold\"> Trainable params: </span><span style=\"color: #00af00; text-decoration-color: #00af00\">121</span> (484.00 B)\n</pre>\n"
     },
     "metadata": {},
     "output_type": "display_data"
    },
    {
     "data": {
      "text/plain": "\u001B[1m Non-trainable params: \u001B[0m\u001B[38;5;34m0\u001B[0m (0.00 B)\n",
      "text/html": "<pre style=\"white-space:pre;overflow-x:auto;line-height:normal;font-family:Menlo,'DejaVu Sans Mono',consolas,'Courier New',monospace\"><span style=\"font-weight: bold\"> Non-trainable params: </span><span style=\"color: #00af00; text-decoration-color: #00af00\">0</span> (0.00 B)\n</pre>\n"
     },
     "metadata": {},
     "output_type": "display_data"
    }
   ],
   "source": [
    "regressor.summary()\n",
    "    "
   ],
   "metadata": {
    "collapsed": false,
    "ExecuteTime": {
     "end_time": "2024-05-28T12:52:06.409124Z",
     "start_time": "2024-05-28T12:52:06.394123Z"
    }
   },
   "id": "545a1b08e3976a49",
   "execution_count": 42
  },
  {
   "cell_type": "code",
   "outputs": [],
   "source": [
    "regressor.compile(\n",
    "    optimizer=keras.optimizers.Adam(learning_rate=0.01),\n",
    "    loss=keras.metrics.MSE,\n",
    "    metrics=[\n",
    "        keras.metrics.MAE,\n",
    "        keras.metrics.MSE,\n",
    "    ],\n",
    ")"
   ],
   "metadata": {
    "collapsed": false,
    "ExecuteTime": {
     "end_time": "2024-05-28T12:52:06.425124Z",
     "start_time": "2024-05-28T12:52:06.410122Z"
    }
   },
   "id": "bf2a19404a636303",
   "execution_count": 43
  },
  {
   "cell_type": "code",
   "outputs": [
    {
     "name": "stdout",
     "output_type": "stream",
     "text": [
      "\u001B[1m7/7\u001B[0m \u001B[32m━━━━━━━━━━━━━━━━━━━━\u001B[0m\u001B[37m\u001B[0m \u001B[1m0s\u001B[0m 1ms/step - loss: 0.2754 - mean_absolute_error: 0.4143 - mean_squared_error: 0.2754  \n"
     ]
    },
    {
     "data": {
      "text/plain": "[0.26534995436668396, 0.40110859274864197, 0.26534995436668396]"
     },
     "execution_count": 44,
     "metadata": {},
     "output_type": "execute_result"
    }
   ],
   "source": [
    "regressor.evaluate(\n",
    "    x=X_test.astype('float32').values,\n",
    "    y=y_test.astype('float32').values,\n",
    "    batch_size=None,\n",
    "    verbose=1,\n",
    ")"
   ],
   "metadata": {
    "collapsed": false,
    "ExecuteTime": {
     "end_time": "2024-05-28T12:52:06.694123Z",
     "start_time": "2024-05-28T12:52:06.426122Z"
    }
   },
   "id": "c50f5cc1a0947237",
   "execution_count": 44
  },
  {
   "cell_type": "code",
   "outputs": [
    {
     "name": "stdout",
     "output_type": "stream",
     "text": [
      "Epoch 1/20\n",
      "\u001B[1m25/25\u001B[0m \u001B[32m━━━━━━━━━━━━━━━━━━━━\u001B[0m\u001B[37m\u001B[0m \u001B[1m1s\u001B[0m 1ms/step - loss: 0.1105 - mean_absolute_error: 0.2494 - mean_squared_error: 0.1105   \n",
      "Epoch 2/20\n",
      "\u001B[1m25/25\u001B[0m \u001B[32m━━━━━━━━━━━━━━━━━━━━\u001B[0m\u001B[37m\u001B[0m \u001B[1m0s\u001B[0m 875us/step - loss: 0.0137 - mean_absolute_error: 0.0932 - mean_squared_error: 0.0137\n",
      "Epoch 3/20\n",
      "\u001B[1m25/25\u001B[0m \u001B[32m━━━━━━━━━━━━━━━━━━━━\u001B[0m\u001B[37m\u001B[0m \u001B[1m0s\u001B[0m 875us/step - loss: 0.0062 - mean_absolute_error: 0.0573 - mean_squared_error: 0.0062\n",
      "Epoch 4/20\n",
      "\u001B[1m25/25\u001B[0m \u001B[32m━━━━━━━━━━━━━━━━━━━━\u001B[0m\u001B[37m\u001B[0m \u001B[1m0s\u001B[0m 833us/step - loss: 0.0028 - mean_absolute_error: 0.0398 - mean_squared_error: 0.0028\n",
      "Epoch 5/20\n",
      "\u001B[1m25/25\u001B[0m \u001B[32m━━━━━━━━━━━━━━━━━━━━\u001B[0m\u001B[37m\u001B[0m \u001B[1m0s\u001B[0m 833us/step - loss: 0.0023 - mean_absolute_error: 0.0335 - mean_squared_error: 0.0023\n",
      "Epoch 6/20\n",
      "\u001B[1m25/25\u001B[0m \u001B[32m━━━━━━━━━━━━━━━━━━━━\u001B[0m\u001B[37m\u001B[0m \u001B[1m0s\u001B[0m 792us/step - loss: 0.0018 - mean_absolute_error: 0.0306 - mean_squared_error: 0.0018\n",
      "Epoch 7/20\n",
      "\u001B[1m25/25\u001B[0m \u001B[32m━━━━━━━━━━━━━━━━━━━━\u001B[0m\u001B[37m\u001B[0m \u001B[1m0s\u001B[0m 750us/step - loss: 0.0014 - mean_absolute_error: 0.0272 - mean_squared_error: 0.0014\n",
      "Epoch 8/20\n",
      "\u001B[1m25/25\u001B[0m \u001B[32m━━━━━━━━━━━━━━━━━━━━\u001B[0m\u001B[37m\u001B[0m \u001B[1m0s\u001B[0m 792us/step - loss: 0.0021 - mean_absolute_error: 0.0268 - mean_squared_error: 0.0021       \n",
      "Epoch 9/20\n",
      "\u001B[1m25/25\u001B[0m \u001B[32m━━━━━━━━━━━━━━━━━━━━\u001B[0m\u001B[37m\u001B[0m \u001B[1m0s\u001B[0m 708us/step - loss: 0.0022 - mean_absolute_error: 0.0251 - mean_squared_error: 0.0022       \n",
      "Epoch 10/20\n",
      "\u001B[1m25/25\u001B[0m \u001B[32m━━━━━━━━━━━━━━━━━━━━\u001B[0m\u001B[37m\u001B[0m \u001B[1m0s\u001B[0m 792us/step - loss: 0.0016 - mean_absolute_error: 0.0230 - mean_squared_error: 0.0016       \n",
      "Epoch 11/20\n",
      "\u001B[1m25/25\u001B[0m \u001B[32m━━━━━━━━━━━━━━━━━━━━\u001B[0m\u001B[37m\u001B[0m \u001B[1m0s\u001B[0m 750us/step - loss: 0.0011 - mean_absolute_error: 0.0197 - mean_squared_error: 0.0011       \n",
      "Epoch 12/20\n",
      "\u001B[1m25/25\u001B[0m \u001B[32m━━━━━━━━━━━━━━━━━━━━\u001B[0m\u001B[37m\u001B[0m \u001B[1m0s\u001B[0m 792us/step - loss: 0.0033 - mean_absolute_error: 0.0234 - mean_squared_error: 0.0033\n",
      "Epoch 13/20\n",
      "\u001B[1m25/25\u001B[0m \u001B[32m━━━━━━━━━━━━━━━━━━━━\u001B[0m\u001B[37m\u001B[0m \u001B[1m0s\u001B[0m 750us/step - loss: 6.7312e-04 - mean_absolute_error: 0.0175 - mean_squared_error: 6.7312e-04\n",
      "Epoch 14/20\n",
      "\u001B[1m25/25\u001B[0m \u001B[32m━━━━━━━━━━━━━━━━━━━━\u001B[0m\u001B[37m\u001B[0m \u001B[1m0s\u001B[0m 833us/step - loss: 0.0010 - mean_absolute_error: 0.0173 - mean_squared_error: 0.0010       \n",
      "Epoch 15/20\n",
      "\u001B[1m25/25\u001B[0m \u001B[32m━━━━━━━━━━━━━━━━━━━━\u001B[0m\u001B[37m\u001B[0m \u001B[1m0s\u001B[0m 708us/step - loss: 6.3803e-04 - mean_absolute_error: 0.0168 - mean_squared_error: 6.3803e-04\n",
      "Epoch 16/20\n",
      "\u001B[1m25/25\u001B[0m \u001B[32m━━━━━━━━━━━━━━━━━━━━\u001B[0m\u001B[37m\u001B[0m \u001B[1m0s\u001B[0m 708us/step - loss: 7.8115e-04 - mean_absolute_error: 0.0154 - mean_squared_error: 7.8115e-04\n",
      "Epoch 17/20\n",
      "\u001B[1m25/25\u001B[0m \u001B[32m━━━━━━━━━━━━━━━━━━━━\u001B[0m\u001B[37m\u001B[0m \u001B[1m0s\u001B[0m 750us/step - loss: 3.6553e-04 - mean_absolute_error: 0.0135 - mean_squared_error: 3.6553e-04\n",
      "Epoch 18/20\n",
      "\u001B[1m25/25\u001B[0m \u001B[32m━━━━━━━━━━━━━━━━━━━━\u001B[0m\u001B[37m\u001B[0m \u001B[1m0s\u001B[0m 708us/step - loss: 7.4268e-04 - mean_absolute_error: 0.0132 - mean_squared_error: 7.4268e-04\n",
      "Epoch 19/20\n",
      "\u001B[1m25/25\u001B[0m \u001B[32m━━━━━━━━━━━━━━━━━━━━\u001B[0m\u001B[37m\u001B[0m \u001B[1m0s\u001B[0m 750us/step - loss: 6.7417e-04 - mean_absolute_error: 0.0134 - mean_squared_error: 6.7417e-04\n",
      "Epoch 20/20\n",
      "\u001B[1m25/25\u001B[0m \u001B[32m━━━━━━━━━━━━━━━━━━━━\u001B[0m\u001B[37m\u001B[0m \u001B[1m0s\u001B[0m 792us/step - loss: 0.0016 - mean_absolute_error: 0.0129 - mean_squared_error: 0.0016       \n"
     ]
    }
   ],
   "source": [
    "history = regressor.fit(\n",
    "    x=X_train.astype('float32').values,\n",
    "    y=y_train.astype('float32').values,\n",
    "    batch_size=None,\n",
    "    epochs=20,\n",
    "    shuffle=True,\n",
    "    steps_per_epoch=None,\n",
    ")"
   ],
   "metadata": {
    "collapsed": false,
    "ExecuteTime": {
     "end_time": "2024-05-28T12:52:08.184927Z",
     "start_time": "2024-05-28T12:52:06.695123Z"
    }
   },
   "id": "d26c8d03d02301b4",
   "execution_count": 45
  },
  {
   "cell_type": "code",
   "outputs": [
    {
     "data": {
      "text/plain": "[<matplotlib.lines.Line2D at 0x208d4033ca0>]"
     },
     "execution_count": 46,
     "metadata": {},
     "output_type": "execute_result"
    },
    {
     "data": {
      "text/plain": "<Figure size 640x480 with 1 Axes>",
      "image/png": "[encoded data removed]"
     },
     "metadata": {},
     "output_type": "display_data"
    }
   ],
   "source": [
    "\n",
    "\n",
    "plt.plot(history.history['loss'])\n",
    "plt.plot(history.history['mean_absolute_error'])"
   ],
   "metadata": {
    "collapsed": false,
    "ExecuteTime": {
     "end_time": "2024-05-28T12:52:08.296523Z",
     "start_time": "2024-05-28T12:52:08.185929Z"
    }
   },
   "id": "8a8af08a5ee487e",
   "execution_count": 46
  }
 ],
 "metadata": {
  "kernelspec": {
   "display_name": "Python 3",
   "language": "python",
   "name": "python3"
  },
  "language_info": {
   "codemirror_mode": {
    "name": "ipython",
    "version": 2
   },
   "file_extension": ".py",
   "mimetype": "text/x-python",
   "name": "python",
   "nbconvert_exporter": "python",
   "pygments_lexer": "ipython2",
   "version": "2.7.6"
  }
 },
 "nbformat": 4,
 "nbformat_minor": 5
}
