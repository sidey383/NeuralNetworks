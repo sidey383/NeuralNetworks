{
 "nbformat": 4,
 "nbformat_minor": 0,
 "metadata": {
  "colab": {
   "provenance": []
  },
  "kernelspec": {
   "name": "python3",
   "language": "python",
   "display_name": "Python 3 (ipykernel)"
  },
  "language_info": {
   "name": "python"
  }
 },
 "cells": [
  {
   "cell_type": "code",
   "source": [
    "import pandas as pd\n",
    "import numpy as np\n",
    "import seaborn as sns\n",
    "import matplotlib.pyplot as plt\n",
    "from sklearn import tree\n",
    "from pandas.api.types import is_numeric_dtype\n",
    "from pandas.plotting import scatter_matrix\n",
    "from pandas import Series"
   ],
   "metadata": {
    "id": "kR44Z4Kzqy19",
    "ExecuteTime": {
     "end_time": "2024-05-29T13:59:07.552784Z",
     "start_time": "2024-05-29T13:59:05.219646Z"
    }
   },
   "execution_count": 1,
   "outputs": []
  },
  {
   "cell_type": "code",
   "source": [
    "file = \"Laptop_price.csv\""
   ],
   "metadata": {
    "id": "mU4jwholsM6m",
    "ExecuteTime": {
     "end_time": "2024-05-29T13:59:07.568409Z",
     "start_time": "2024-05-29T13:59:07.552784Z"
    }
   },
   "execution_count": 2,
   "outputs": []
  },
  {
   "cell_type": "markdown",
   "source": [
    "Prepare data"
   ],
   "metadata": {
    "collapsed": false
   }
  },
  {
   "cell_type": "code",
   "source": [
    "train = pd.read_csv(file)\n",
    "df = pd.DataFrame(train)\n",
    "df_no_brand = pd.DataFrame(train).drop(['Brand'], axis=1)\n",
    "print(df.shape)\n",
    "print(df.dtypes)\n",
    "df_numeric = df.select_dtypes(include=[np.number])\n",
    "numeric_cols = df_numeric.columns.values\n",
    "print(\"Numeric:\", numeric_cols)\n",
    "df_non_numeric = df.select_dtypes(exclude=[np.number])\n",
    "non_numeric_cols = df_non_numeric.columns.values\n",
    "print(\"No numeric:\", non_numeric_cols)"
   ],
   "metadata": {
    "id": "6TPBt50Url4G",
    "colab": {
     "base_uri": "https://localhost:8080/"
    },
    "outputId": "ad556648-2ecc-4fb9-a493-fca7ec0b2b32",
    "ExecuteTime": {
     "end_time": "2024-05-29T13:59:07.615695Z",
     "start_time": "2024-05-29T13:59:07.568409Z"
    }
   },
   "execution_count": 3,
   "outputs": []
  },
  {
   "cell_type": "code",
   "source": [
    "for col in df.columns:\n",
    "    pct_missing = np.mean(df[col].isnull())\n",
    "    print('{} - {}%'.format(col, round(pct_missing*100)))\n",
    "colours = ['#00ff00', '#ff0000'] \n",
    "sns.heatmap(df.isnull(), cmap=sns.color_palette(colours))"
   ],
   "metadata": {
    "collapsed": false,
    "ExecuteTime": {
     "end_time": "2024-05-29T13:59:07.968193Z",
     "start_time": "2024-05-29T13:59:07.615695Z"
    }
   },
   "execution_count": 4,
   "outputs": []
  },
  {
   "cell_type": "markdown",
   "source": [
    "Create missing column"
   ],
   "metadata": {
    "collapsed": false
   }
  },
  {
   "cell_type": "code",
   "source": [
    "from pandas import DataFrame\n",
    "\n",
    "mdf = DataFrame()\n",
    "for col in df.columns:\n",
    "    missing = df[col].isnull()\n",
    "    num_missing = np.sum(missing)\n",
    "    \n",
    "    if num_missing > 0:  \n",
    "        mdf['{}_ismissing'.format(col)] = missing\n",
    "\n",
    "\n",
    "ismissing_cols = [col for col in mdf.columns if 'ismissing' in col]\n",
    "mdf['num_missing'] = mdf[ismissing_cols].sum(axis=1)\n",
    "\n",
    "mdf['num_missing'].plot(kind='hist', figsize=(15,5), title=\"Miss\")"
   ],
   "metadata": {
    "collapsed": false,
    "ExecuteTime": {
     "end_time": "2024-05-29T13:59:08.262285Z",
     "start_time": "2024-05-29T13:59:07.969194Z"
    }
   },
   "execution_count": 5,
   "outputs": []
  },
  {
   "cell_type": "markdown",
   "source": [
    "show all"
   ],
   "metadata": {
    "collapsed": false
   }
  },
  {
   "cell_type": "code",
   "source": [
    "scatter_matrix(df, alpha=0.2, figsize=(20, 20), diagonal=\"hist\");"
   ],
   "metadata": {
    "collapsed": false,
    "ExecuteTime": {
     "end_time": "2024-05-29T13:59:10.271223Z",
     "start_time": "2024-05-29T13:59:08.262285Z"
    }
   },
   "execution_count": 6,
   "outputs": []
  },
  {
   "cell_type": "markdown",
   "source": [
    "show intresting"
   ],
   "metadata": {
    "collapsed": false
   }
  },
  {
   "cell_type": "code",
   "source": [
    "df.plot.scatter(x= \"Price\", y= \"Storage_Capacity\")\n",
    "plt.show()\n",
    "df.plot.scatter(x= \"Price\", y= \"Screen_Size\")\n",
    "plt.show()\n",
    "ts = Series(df[\"Price\"])\n",
    "ts.plot(kind='hist', figsize=(15,5), title=\"Price\")\n",
    "plt.show()\n",
    "\n",
    "for col in df:\n",
    " if is_numeric_dtype(df[col].dtype):\n",
    "  df[col].plot.box(return_type='both')\n",
    "  plt.show()"
   ],
   "metadata": {
    "collapsed": false,
    "ExecuteTime": {
     "end_time": "2024-05-29T13:59:11.232039Z",
     "start_time": "2024-05-29T13:59:10.271223Z"
    }
   },
   "execution_count": 7,
   "outputs": []
  },
  {
   "cell_type": "markdown",
   "source": [
    "show correlation heatmap"
   ],
   "metadata": {
    "collapsed": false
   }
  },
  {
   "cell_type": "code",
   "source": [
    "cor_mat = df_no_brand.corr()\n",
    "print(cor_mat)\n",
    "upper_tri = cor_mat.where(np.triu(np.ones(cor_mat.shape),k=1).astype(np.bool_))\n",
    "print(upper_tri)\n",
    "sns.heatmap(upper_tri, cmap='RdBu_r', annot=True, vmin=-1, vmax=1)\n",
    "plt.show()"
   ],
   "metadata": {
    "colab": {
     "base_uri": "https://localhost:8080/",
     "height": 561
    },
    "id": "-yH8cdI4sXXz",
    "outputId": "826ac9bf-50e2-443f-f4b9-5fd41a75f275",
    "ExecuteTime": {
     "end_time": "2024-05-29T13:59:38.125005Z",
     "start_time": "2024-05-29T13:59:37.905382Z"
    }
   },
   "execution_count": 13,
   "outputs": []
  },
  {
   "cell_type": "markdown",
   "source": [
    "drop high correlation (ignore)"
   ],
   "metadata": {
    "collapsed": false
   }
  },
  {
   "cell_type": "code",
   "source": [
    "print(upper_tri)\n",
    "to_drop = [column for column in upper_tri.columns if any(upper_tri[column] > 0.95)]\n",
    "#df.drop(to_drop, axis=1, inplace=True)\n",
    "print(\"To drop: \", to_drop)"
   ],
   "metadata": {
    "collapsed": false,
    "ExecuteTime": {
     "end_time": "2024-05-29T13:59:11.457462Z",
     "start_time": "2024-05-29T13:59:11.442454Z"
    }
   },
   "execution_count": 9,
   "outputs": []
  },
  {
   "cell_type": "code",
   "source": [
    "train_labels = df[\"Price\"].apply(lambda x:  'Low' if x < 15000 else ('Medium' if x < 25000 else 'Hight'))\n",
    "clf = tree.DecisionTreeClassifier(criterion='entropy', max_depth=5)\n",
    "df_for_tree = df_no_brand.drop(['Price'], axis=1)\n",
    "clf = clf.fit(df_for_tree, train_labels)\n",
    "plt.figure(figsize=(15,15))\n",
    "tree.plot_tree(clf, fontsize=10)\n",
    "print(df_for_tree.columns.values)\n",
    "plt.show()"
   ],
   "metadata": {
    "id": "MRJsUHbKsfYU",
    "ExecuteTime": {
     "end_time": "2024-05-29T13:59:11.827915Z",
     "start_time": "2024-05-29T13:59:11.457462Z"
    }
   },
   "execution_count": 10,
   "outputs": []
  }
 ]
}
