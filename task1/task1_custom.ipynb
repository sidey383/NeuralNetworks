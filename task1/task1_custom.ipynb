{
 "cells": [
  {
   "cell_type": "code",
   "execution_count": 11,
   "id": "initial_id",
   "metadata": {
    "collapsed": true,
    "ExecuteTime": {
     "end_time": "2024-05-28T12:46:51.405304Z",
     "start_time": "2024-05-28T12:46:51.393305Z"
    }
   },
   "outputs": [
    {
     "name": "stdout",
     "output_type": "stream",
     "text": [
      "Loaded!\n",
      "      Brand  Processor_Speed  RAM_Size  Storage_Capacity  Screen_Size  \\\n",
      "0      Asus         3.830296        16               512    11.185147   \n",
      "1      Acer         2.912833         4              1000    11.311372   \n",
      "2    Lenovo         3.241627         4               256    11.853023   \n",
      "3      Acer         3.806248        16               512    12.280360   \n",
      "4      Acer         3.268097        32              1000    14.990877   \n",
      "..      ...              ...       ...               ...          ...   \n",
      "995      HP         3.343584         4              1000    12.587095   \n",
      "996    Dell         2.780555         8               256    12.679356   \n",
      "997    Dell         3.200569         4               512    12.666315   \n",
      "998    Asus         1.604182         8               256    11.215581   \n",
      "999  Lenovo         1.711980         4               256    16.561498   \n",
      "\n",
      "       Weight         Price  \n",
      "0    2.641094  17395.093065  \n",
      "1    3.260012  31607.605919  \n",
      "2    2.029061           NaN  \n",
      "3    4.573865  17436.728334  \n",
      "4    4.193472           NaN  \n",
      "..        ...           ...  \n",
      "995  3.162399  31593.668017  \n",
      "996  3.750265   9149.521832  \n",
      "997  3.392612  16552.404779  \n",
      "998  3.857613   9407.473459  \n",
      "999  3.440883   8807.696702  \n",
      "\n",
      "[1000 rows x 7 columns]\n"
     ]
    }
   ],
   "source": [
    "import pandas as pd\n",
    "\n",
    "file = \"Laptop_price.csv\"\n",
    "\n",
    "df = pd.read_csv(file)\n",
    "\n",
    "print(\"Loaded!\")\n",
    "print(df)"
   ]
  },
  {
   "cell_type": "markdown",
   "source": [
    "Удаление пропусков"
   ],
   "metadata": {
    "collapsed": false
   },
   "id": "67135c289c65b030"
  },
  {
   "cell_type": "code",
   "outputs": [
    {
     "name": "stdout",
     "output_type": "stream",
     "text": [
      "      Brand  Processor_Speed  RAM_Size  Storage_Capacity  Screen_Size  \\\n",
      "0      Asus         3.830296        16               512    11.185147   \n",
      "1      Acer         2.912833         4              1000    11.311372   \n",
      "2    Lenovo         3.241627         4               256    11.853023   \n",
      "3      Acer         3.806248        16               512    12.280360   \n",
      "4      Acer         3.268097        32              1000    14.990877   \n",
      "..      ...              ...       ...               ...          ...   \n",
      "995      HP         3.343584         4              1000    12.587095   \n",
      "996    Dell         2.780555         8               256    12.679356   \n",
      "997    Dell         3.200569         4               512    12.666315   \n",
      "998    Asus         1.604182         8               256    11.215581   \n",
      "999  Lenovo         1.711980         4               256    16.561498   \n",
      "\n",
      "       Weight         Price  \n",
      "0    2.641094  17395.093065  \n",
      "1    3.260012  31607.605919  \n",
      "2    2.029061           NaN  \n",
      "3    4.573865  17436.728334  \n",
      "4    4.193472           NaN  \n",
      "..        ...           ...  \n",
      "995  3.162399  31593.668017  \n",
      "996  3.750265   9149.521832  \n",
      "997  3.392612  16552.404779  \n",
      "998  3.857613   9407.473459  \n",
      "999  3.440883   8807.696702  \n",
      "\n",
      "[1000 rows x 7 columns]\n",
      "Brand                object\n",
      "Processor_Speed     float64\n",
      "RAM_Size              int64\n",
      "Storage_Capacity      int64\n",
      "Screen_Size         float64\n",
      "Weight              float64\n",
      "Price               float64\n",
      "dtype: object\n"
     ]
    }
   ],
   "source": [
    "def clear_dataset_rows(df: pd.DataFrame, percent: float) -> None:\n",
    "    count = df.columns.size\n",
    "    for index, row in df.iterrows():\n",
    "        empty = 0\n",
    "        for v in row:\n",
    "            if pd.isnull(v):\n",
    "                empty+=1\n",
    "        if empty/count > percent:\n",
    "            df.drop(index, axis=0, inplace=True)\n",
    "            \n",
    "clear_dataset_rows(df, 0.5)    \n",
    "print(df)\n",
    "print(df.dtypes)"
   ],
   "metadata": {
    "collapsed": false,
    "ExecuteTime": {
     "end_time": "2024-05-28T12:46:51.469304Z",
     "start_time": "2024-05-28T12:46:51.421305Z"
    }
   },
   "id": "c89acbd68d133a71",
   "execution_count": 12
  },
  {
   "cell_type": "markdown",
   "source": [
    "Восстановление пропусков"
   ],
   "metadata": {
    "collapsed": false
   },
   "id": "daed1ac2806cba74"
  },
  {
   "cell_type": "code",
   "outputs": [
    {
     "name": "stdout",
     "output_type": "stream",
     "text": [
      "      Brand  Processor_Speed  RAM_Size  Storage_Capacity  Screen_Size  \\\n",
      "0      Asus         3.830296        16               512    11.185147   \n",
      "1      Acer         2.912833         4              1000    11.311372   \n",
      "2    Lenovo         3.241627         4               256    11.853023   \n",
      "3      Acer         3.806248        16               512    12.280360   \n",
      "4      Acer         3.268097        32              1000    14.990877   \n",
      "..      ...              ...       ...               ...          ...   \n",
      "995      HP         3.343584         4              1000    12.587095   \n",
      "996    Dell         2.780555         8               256    12.679356   \n",
      "997    Dell         3.200569         4               512    12.666315   \n",
      "998    Asus         1.604182         8               256    11.215581   \n",
      "999  Lenovo         1.711980         4               256    16.561498   \n",
      "\n",
      "       Weight         Price  \n",
      "0    2.641094  17395.093065  \n",
      "1    3.260012  31607.605919  \n",
      "2    2.029061  19611.269036  \n",
      "3    4.573865  17436.728334  \n",
      "4    4.193472  19611.269036  \n",
      "..        ...           ...  \n",
      "995  3.162399  31593.668017  \n",
      "996  3.750265   9149.521832  \n",
      "997  3.392612  16552.404779  \n",
      "998  3.857613   9407.473459  \n",
      "999  3.440883   8807.696702  \n",
      "\n",
      "[1000 rows x 7 columns]\n"
     ]
    }
   ],
   "source": [
    "from collections import Counter\n",
    "from pandas.core.dtypes.common import is_numeric_dtype\n",
    "\n",
    "\n",
    "def recovery_dataset(df: pd.DataFrame):\n",
    "    for column in df.columns:\n",
    "        column_type = df[column].dtype\n",
    "        if column_type == \"object\":\n",
    "            c = Counter(df[column].values)\n",
    "            com = c.most_common()[0]\n",
    "            if pd.isnull(com[0]):\n",
    "                com = c.most_common()[1]\n",
    "            df[column] = df[column].fillna(com[0])\n",
    "        if is_numeric_dtype(column_type):\n",
    "            total_sum = 0\n",
    "            count = 0\n",
    "            for v in df[column].values:\n",
    "                if not pd.isnull(v):\n",
    "                    total_sum+=v\n",
    "                    count+=1\n",
    "            avg = total_sum / count\n",
    "            df[column] = df[column].fillna(avg)\n",
    "recovery_dataset(df)\n",
    "print(df)"
   ],
   "metadata": {
    "collapsed": false,
    "ExecuteTime": {
     "end_time": "2024-05-28T12:46:51.485306Z",
     "start_time": "2024-05-28T12:46:51.470308Z"
    }
   },
   "id": "45aa8d7f17b6a839",
   "execution_count": 13
  },
  {
   "cell_type": "markdown",
   "source": [
    "Вычисление матрицы корреляций"
   ],
   "metadata": {
    "collapsed": false
   },
   "id": "88d7df4503074c16"
  },
  {
   "cell_type": "code",
   "outputs": [
    {
     "name": "stdout",
     "output_type": "stream",
     "text": [
      "Processor_Speed            None 0.0213914402499 -0.067576486128 -0.013425460918 -0.054603421487 -0.052388651117 \n",
      "       RAM_Size            None            None 0.0021111206978 -0.036002173555 -0.025381654469 0.0581364510768 \n",
      "Storage_Capacit            None            None            None -0.027559966015 0.0413350855564 0.9959272812838 \n",
      "    Screen_Size            None            None            None            None 0.0219945827551 -0.030327113072 \n",
      "         Weight            None            None            None            None            None 0.0371859589309 \n",
      "          Price            None            None            None            None            None            None \n",
      "                Processor_Speed        RAM_Size Storage_Capacit     Screen_Size          Weight           Price \n"
     ]
    }
   ],
   "source": [
    "from math import sqrt\n",
    "\n",
    "def correlation_matrix(df: pd.DataFrame) -> pd.DataFrame: \n",
    "    available_columns = []\n",
    "    for column in df.columns:\n",
    "        if is_numeric_dtype(df[column].dtype):\n",
    "            available_columns.append(column)\n",
    "    dispersions = {}\n",
    "    avgs = {}\n",
    "    for column in available_columns:\n",
    "        square_sum = 0\n",
    "        elem_sum = 0\n",
    "        n = len(df[column].values)\n",
    "        for val in df[column].values:\n",
    "            square_sum += val*val\n",
    "            elem_sum += val\n",
    "        avg = elem_sum / n\n",
    "        dispersions[column] = sqrt(square_sum / n - avg*avg)\n",
    "        avgs[column] = avg\n",
    "    result = [[c] for c in available_columns]\n",
    "    for i in range(len(available_columns)):\n",
    "        for j in range(len(available_columns)):\n",
    "            c1 = available_columns[i]\n",
    "            c2 = available_columns[j]\n",
    "            if j > i:\n",
    "                elem_sum = 0\n",
    "                count = min(len(df[c1].values), len(df[c2].values))\n",
    "                for k in range(count):\n",
    "                    elem_sum += df[c1].values[k] * df[c2].values[k]\n",
    "                elem_sum = elem_sum / count\n",
    "                result[i].append((elem_sum - avgs[c1] * avgs[c2]) / (dispersions[c1] * dispersions[c2]))\n",
    "            else:\n",
    "                result[i].append(None)\n",
    "    available_columns.insert(0, \"\")\n",
    "    result.append(available_columns)\n",
    "    return result\n",
    "\n",
    "for l in correlation_matrix(df):\n",
    "    for v in l:\n",
    "        v = str(v)\n",
    "        print(v.rjust(15)[:15], end=' ')\n",
    "    print()"
   ],
   "metadata": {
    "collapsed": false,
    "ExecuteTime": {
     "end_time": "2024-05-28T12:46:51.595305Z",
     "start_time": "2024-05-28T12:46:51.486304Z"
    }
   },
   "id": "304366b6409715f1",
   "execution_count": 14
  },
  {
   "cell_type": "markdown",
   "source": [
    "Функции для энтропии и gain ration"
   ],
   "metadata": {
    "collapsed": false
   },
   "id": "723f6a1fae9faae3"
  },
  {
   "cell_type": "code",
   "outputs": [],
   "source": [
    "from math import log2\n",
    "    \n",
    "def entropy(s : pd.Series) -> float:\n",
    "    count = len(s)\n",
    "    classes = s.value_counts()\n",
    "    return sum([ -p * log2(p) for p in [ c / count for c in classes]])\n",
    "\n",
    "def information_gain(data: pd.DataFrame, target: str, feature: str) -> float:\n",
    "    target_size = len(data[target])\n",
    "    gain = entropy(data[target])\n",
    "    for u in data[feature].unique():\n",
    "        target_part = data[data[feature] == u][target]\n",
    "        gain -= entropy(target_part) * (len(target_part) / target_size)\n",
    "    return gain\n",
    "\n",
    "\n",
    "def gain_ratio(data: pd.DataFrame, target: str, feature: str) -> float:\n",
    "    info = 0\n",
    "    target_size = len(data[target])\n",
    "    for u in data[feature].unique():\n",
    "        target_part = data[data[feature] == u][target]\n",
    "        weight = len(target_part) / target_size\n",
    "        info -= weight * log2(weight)\n",
    "    return information_gain(data, target, feature) / info\n",
    "\n",
    "\n",
    "def all_gain_ration(data: pd.DataFrame, target: str, features: list[str] = None) -> dict[str, float]:\n",
    "    if not features is list[str] or len(features) == 0:\n",
    "        features = [column for column in data if column != target]\n",
    "    return {column: gain_ratio(data, column, target) for column in features}\n",
    "\n",
    "def all_information_gain(data: pd.DataFrame, target: str, features: list[str] = None) -> dict[str, float]:\n",
    "    if not features is list[str] or len(features) == 0:\n",
    "        features = [column for column in data if column != target]\n",
    "    return {i[0]:i[1] for i in sorted({column: information_gain(data, column, target) for column in features}.items(), key=lambda x: x[1], reverse=True)}"
   ],
   "metadata": {
    "collapsed": false,
    "ExecuteTime": {
     "end_time": "2024-05-28T12:46:51.611306Z",
     "start_time": "2024-05-28T12:46:51.597307Z"
    }
   },
   "id": "ab09e8c77d33f10b",
   "execution_count": 15
  },
  {
   "cell_type": "markdown",
   "source": [
    "Вычисление энтропии и gain ratio"
   ],
   "metadata": {
    "collapsed": false
   },
   "id": "36879b7cad7d35da"
  },
  {
   "cell_type": "code",
   "outputs": [],
   "source": [
    "df['Price'] = df[\"Price\"].apply(lambda x:  'Low' if x < 15000 else ('Medium' if x < 25000 else 'Hight'))"
   ],
   "metadata": {
    "collapsed": false,
    "ExecuteTime": {
     "end_time": "2024-05-28T12:46:51.627303Z",
     "start_time": "2024-05-28T12:46:51.612305Z"
    }
   },
   "id": "604dace7c8a18bd8",
   "execution_count": 16
  },
  {
   "cell_type": "code",
   "outputs": [],
   "source": [
    "ig = {}\n",
    "for col in df.columns:\n",
    "  if col != 'Price':\n",
    "      ig[col] = information_gain(df, 'Price', col)\n",
    "ig = dict(sorted(ig.items(), key=lambda item: item[1], reverse=True))"
   ],
   "metadata": {
    "collapsed": false,
    "ExecuteTime": {
     "end_time": "2024-05-28T12:46:52.962947Z",
     "start_time": "2024-05-28T12:46:51.628302Z"
    }
   },
   "id": "55c3067f1149c398",
   "execution_count": 17
  },
  {
   "cell_type": "code",
   "outputs": [],
   "source": [
    "gr = {}\n",
    "for col in df.columns:\n",
    "  if col != 'Price':\n",
    "      gr[col] = gain_ratio(df, 'Price', col)\n",
    "gr = dict(sorted(gr.items(), key=lambda item: item[1], reverse=True))"
   ],
   "metadata": {
    "collapsed": false,
    "ExecuteTime": {
     "end_time": "2024-05-28T12:46:54.805386Z",
     "start_time": "2024-05-28T12:46:52.963947Z"
    }
   },
   "id": "b50667447fc3aa2d",
   "execution_count": 18
  },
  {
   "cell_type": "code",
   "outputs": [
    {
     "name": "stdout",
     "output_type": "stream",
     "text": [
      "Gain ratio\n",
      "Storage_Capacity:0.9828497733170076\n",
      "Processor_Speed:0.15881893307315909\n",
      "Screen_Size:0.15881893307315909\n",
      "Weight:0.15881893307315909\n",
      "Brand:0.0029636300610715546\n",
      "RAM_Size:0.0023856030878556243\n"
     ]
    }
   ],
   "source": [
    "print(\"Gain ratio\")\n",
    "for item in gr.items():\n",
    "    print(f'{item[0]}:{item[1]}')\n"
   ],
   "metadata": {
    "collapsed": false,
    "ExecuteTime": {
     "end_time": "2024-05-28T12:46:54.821382Z",
     "start_time": "2024-05-28T12:46:54.806390Z"
    }
   },
   "id": "b5cd30922bbd76d8",
   "execution_count": 19
  },
  {
   "cell_type": "code",
   "outputs": [
    {
     "name": "stdout",
     "output_type": "stream",
     "text": [
      "Information gain\n",
      "Processor_Speed:1.5827552273272776\n",
      "Screen_Size:1.5827552273272776\n",
      "Weight:1.5827552273272776\n",
      "Storage_Capacity:1.5550855107150214\n",
      "Brand:0.0068775591153331095\n",
      "RAM_Size:0.00476572724996871\n"
     ]
    }
   ],
   "source": [
    "print(\"Information gain\")\n",
    "for item in ig.items():\n",
    "    print(f'{item[0]}:{item[1]}')"
   ],
   "metadata": {
    "collapsed": false,
    "ExecuteTime": {
     "end_time": "2024-05-28T12:46:54.837383Z",
     "start_time": "2024-05-28T12:46:54.822387Z"
    }
   },
   "id": "9af2378926d38ed8",
   "execution_count": 20
  },
  {
   "cell_type": "code",
   "outputs": [],
   "source": [],
   "metadata": {
    "collapsed": false,
    "ExecuteTime": {
     "end_time": "2024-05-28T12:46:54.853389Z",
     "start_time": "2024-05-28T12:46:54.839386Z"
    }
   },
   "id": "940ace534543cb02",
   "execution_count": 20
  }
 ],
 "metadata": {
  "kernelspec": {
   "display_name": "Python 3",
   "language": "python",
   "name": "python3"
  },
  "language_info": {
   "codemirror_mode": {
    "name": "ipython",
    "version": 2
   },
   "file_extension": ".py",
   "mimetype": "text/x-python",
   "name": "python",
   "nbconvert_exporter": "python",
   "pygments_lexer": "ipython2",
   "version": "2.7.6"
  }
 },
 "nbformat": 4,
 "nbformat_minor": 5
}
